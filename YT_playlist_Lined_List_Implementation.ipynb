{
  "nbformat": 4,
  "nbformat_minor": 0,
  "metadata": {
    "colab": {
      "name": "YT_playlist.ipynb",
      "provenance": [],
      "collapsed_sections": []
    },
    "kernelspec": {
      "name": "python3",
      "display_name": "Python 3"
    },
    "language_info": {
      "name": "python"
    }
  },
  "cells": [
    {
      "cell_type": "code",
      "metadata": {
        "colab": {
          "base_uri": "https://localhost:8080/"
        },
        "id": "wvF3SMBJr6ch",
        "outputId": "84a21369-10a2-43af-ddb7-977e8724341e"
      },
      "source": [
        "pip install pytube"
      ],
      "execution_count": null,
      "outputs": [
        {
          "output_type": "stream",
          "text": [
            "Collecting pytube\n",
            "\u001b[?25l  Downloading https://files.pythonhosted.org/packages/9f/2e/92c42ac4fd8b702bb9fcac5a61bcb9740506376008aaa2c2093f6cbf4cb6/pytube-10.9.2-py3-none-any.whl (54kB)\n",
            "\r\u001b[K     |██████                          | 10kB 16.9MB/s eta 0:00:01\r\u001b[K     |████████████                    | 20kB 21.1MB/s eta 0:00:01\r\u001b[K     |██████████████████              | 30kB 16.0MB/s eta 0:00:01\r\u001b[K     |████████████████████████        | 40kB 14.4MB/s eta 0:00:01\r\u001b[K     |██████████████████████████████  | 51kB 7.1MB/s eta 0:00:01\r\u001b[K     |████████████████████████████████| 61kB 4.8MB/s \n",
            "\u001b[?25hInstalling collected packages: pytube\n",
            "Successfully installed pytube-10.9.2\n"
          ],
          "name": "stdout"
        }
      ]
    },
    {
      "cell_type": "code",
      "metadata": {
        "colab": {
          "base_uri": "https://localhost:8080/"
        },
        "id": "uBtQmIim3Yp5",
        "outputId": "a1b85174-4404-4a1b-db3f-7553c6b77c92"
      },
      "source": [
        "pip install moviepy"
      ],
      "execution_count": null,
      "outputs": [
        {
          "output_type": "stream",
          "text": [
            "Requirement already satisfied: moviepy in /usr/local/lib/python3.7/dist-packages (0.2.3.5)\n",
            "Requirement already satisfied: decorator<5.0,>=4.0.2 in /usr/local/lib/python3.7/dist-packages (from moviepy) (4.4.2)\n",
            "Requirement already satisfied: tqdm<5.0,>=4.11.2 in /usr/local/lib/python3.7/dist-packages (from moviepy) (4.41.1)\n",
            "Requirement already satisfied: numpy in /usr/local/lib/python3.7/dist-packages (from moviepy) (1.19.5)\n",
            "Requirement already satisfied: imageio<3.0,>=2.1.2 in /usr/local/lib/python3.7/dist-packages (from moviepy) (2.4.1)\n",
            "Requirement already satisfied: pillow in /usr/local/lib/python3.7/dist-packages (from imageio<3.0,>=2.1.2->moviepy) (7.1.2)\n"
          ],
          "name": "stdout"
        }
      ]
    },
    {
      "cell_type": "code",
      "metadata": {
        "id": "IWYSABdYCQu9",
        "colab": {
          "base_uri": "https://localhost:8080/"
        },
        "outputId": "3b53fb40-4322-4578-d48b-78afe1980c45"
      },
      "source": [
        "import os\n",
        "import time\n",
        "import moviepy.editor as mp\n",
        "from pytube import YouTube\n",
        "import string\n",
        "from google.colab import files\n",
        "import shutil"
      ],
      "execution_count": null,
      "outputs": [
        {
          "output_type": "stream",
          "text": [
            "Imageio: 'ffmpeg-linux64-v3.3.1' was not found on your computer; downloading it now.\n",
            "Try 1. Download from https://github.com/imageio/imageio-binaries/raw/master/ffmpeg/ffmpeg-linux64-v3.3.1 (43.8 MB)\n",
            "Downloading: 8192/45929032 bytes (0.0%)\b\b\b\b\b\b\b\b\b\b\b\b\b\b\b\b\b\b\b\b\b\b\b\b\b\b2908160/45929032 bytes (6.3%)\b\b\b\b\b\b\b\b\b\b\b\b\b\b\b\b\b\b\b\b\b\b\b\b\b\b\b\b\b6545408/45929032 bytes (14.3%)\b\b\b\b\b\b\b\b\b\b\b\b\b\b\b\b\b\b\b\b\b\b\b\b\b\b\b\b\b\b10158080/45929032 bytes (22.1%)\b\b\b\b\b\b\b\b\b\b\b\b\b\b\b\b\b\b\b\b\b\b\b\b\b\b\b\b\b\b\b13705216/45929032 bytes (29.8%)\b\b\b\b\b\b\b\b\b\b\b\b\b\b\b\b\b\b\b\b\b\b\b\b\b\b\b\b\b\b\b17186816/45929032 bytes (37.4%)\b\b\b\b\b\b\b\b\b\b\b\b\b\b\b\b\b\b\b\b\b\b\b\b\b\b\b\b\b\b\b20627456/45929032 bytes (44.9%)\b\b\b\b\b\b\b\b\b\b\b\b\b\b\b\b\b\b\b\b\b\b\b\b\b\b\b\b\b\b\b23830528/45929032 bytes (51.9%)\b\b\b\b\b\b\b\b\b\b\b\b\b\b\b\b\b\b\b\b\b\b\b\b\b\b\b\b\b\b\b27271168/45929032 bytes (59.4%)\b\b\b\b\b\b\b\b\b\b\b\b\b\b\b\b\b\b\b\b\b\b\b\b\b\b\b\b\b\b\b30818304/45929032 bytes (67.1%)\b\b\b\b\b\b\b\b\b\b\b\b\b\b\b\b\b\b\b\b\b\b\b\b\b\b\b\b\b\b\b34267136/45929032 bytes (74.6%)\b\b\b\b\b\b\b\b\b\b\b\b\b\b\b\b\b\b\b\b\b\b\b\b\b\b\b\b\b\b\b37945344/45929032 bytes (82.6%)\b\b\b\b\b\b\b\b\b\b\b\b\b\b\b\b\b\b\b\b\b\b\b\b\b\b\b\b\b\b\b41500672/45929032 bytes (90.4%)\b\b\b\b\b\b\b\b\b\b\b\b\b\b\b\b\b\b\b\b\b\b\b\b\b\b\b\b\b\b\b45326336/45929032 bytes (98.7%)\b\b\b\b\b\b\b\b\b\b\b\b\b\b\b\b\b\b\b\b\b\b\b\b\b\b\b\b\b\b\b45929032/45929032 bytes (100.0%)\n",
            "  Done\n",
            "File saved as /root/.imageio/ffmpeg/ffmpeg-linux64-v3.3.1.\n"
          ],
          "name": "stdout"
        }
      ]
    },
    {
      "cell_type": "code",
      "metadata": {
        "id": "6bHgBdPC7N8u"
      },
      "source": [
        "import pandas as pd\n",
        "from google.colab import auth\n",
        "auth.authenticate_user()\n",
        "import gspread\n",
        "from oauth2client.client import GoogleCredentials\n",
        "\n",
        "# setup\n",
        "gc = gspread.authorize(GoogleCredentials.get_application_default())\n",
        "\n",
        "# read data and put it in a dataframe\n",
        "gsheets = gc.open_by_url('https://docs.google.com/spreadsheets/d/10XMuQ6yJPKNKFT21TeaZBqMk5N8lBb8sXcpzhctrG4M/edit?usp=sharing')\n",
        "sheets = gsheets.worksheet('Form Responses 1').get_all_values()\n",
        "df = pd.DataFrame(sheets[1:], columns=sheets[0])\n",
        "df.drop_duplicates(subset=\"YouTube Link\",keep=\"first\",inplace=True)"
      ],
      "execution_count": null,
      "outputs": []
    },
    {
      "cell_type": "code",
      "metadata": {
        "id": "zYrjyvkPBCZU"
      },
      "source": [
        "def createFolder(directory):\n",
        "  try:\n",
        "    if not os.path.exists(directory):\n",
        "      os.makedirs(directory)\n",
        "  except OSError:\n",
        "    print ('Error: Creating directory. ' +  directory)"
      ],
      "execution_count": null,
      "outputs": []
    },
    {
      "cell_type": "code",
      "metadata": {
        "id": "WKmKdF5yCYOb"
      },
      "source": [
        "createFolder(\"/content/Songs\")"
      ],
      "execution_count": null,
      "outputs": []
    },
    {
      "cell_type": "code",
      "metadata": {
        "id": "NE4YgOJxdsjD"
      },
      "source": [
        "def flname(a):\n",
        "  b=\"p\"\n",
        "  for i in range(len(a)):\n",
        "    if (a[i] not in [\"|\",\",\",'''\"''',\".\",\":\",\"'\"]): # Can't allow these characters in filename\n",
        "      b+=str(a[i])\n",
        "  return b[1:]"
      ],
      "execution_count": null,
      "outputs": []
    },
    {
      "cell_type": "code",
      "metadata": {
        "id": "BETtgTj5rcV2"
      },
      "source": [
        "def vid_download(link) :\n",
        "  yt = YouTube(link)\n",
        "\n",
        "  title_name =yt.title\n",
        "  # YT Video details\n",
        "  print(\"Title: \",yt.title)\n",
        "  print(\"Number of views: \",yt.views)\n",
        "  print(\"Length of video: \",yt.length)\n",
        "  print(\"Rating of video: \",yt.rating)\n",
        "  # Getting the highest resolution possible\n",
        "  ys = yt.streams.get_highest_resolution()\n",
        "\n",
        "  print(\"Downloading...\")\n",
        "  ys.download(\"/content/Songs\") # Downloading MP4 file of video\n",
        "  print(\"Download completed!!\")\n",
        "  v_loc=\"/content/Songs/\"+flname(title_name)+\".mp4\"\n",
        "\n",
        "  return [title_name,v_loc]"
      ],
      "execution_count": null,
      "outputs": []
    },
    {
      "cell_type": "code",
      "metadata": {
        "id": "Lf4QsRyMrkrE"
      },
      "source": [
        "singer_key = [ (\"KK\",\"a\"), (\"Shreya Ghoshal\",\"b\"), (\"Arijit Singh\",\"c\"), (\"Sonu Nigam\",'d'), (\"Sunidhi Chauhan\",\"e\"), (\"Atif Aslam\",\"f\"), (\"Nusrat Fateh Ali Khan\",\"g\"), (\"Mohit Suri\",\"h\"), (\"Neeraj Shridhar\",\"i\"), (\"Kumar Sanu\",\"j\"), (\"Alka Yagnik\",\"k\"), (\"Others\",\"l\") ]\n",
        "category_key =[ (\"Sad\",\"a\"), (\"Romantic\",\"b\"), (\"Party\",\"c\"), (\"Qawalli\",\"d\"), (\"Calm\",\"e\"), (\"Others\",\"f\") ]\n",
        "\n",
        "# Extracting Audio from Video \n",
        "\n",
        "def vidtoaud(title_name,v_loc,category,singer):\n",
        "  a_loc=\"/content/Songs/\"+flname(title_name)+ \".mp3\"\n",
        "  my_clip = mp.VideoFileClip(v_loc)\n",
        "  print(my_clip)\n",
        "  my_clip.audio.write_audiofile(a_loc)\n",
        "  os.remove(v_loc)"
      ],
      "execution_count": null,
      "outputs": []
    },
    {
      "cell_type": "code",
      "metadata": {
        "colab": {
          "base_uri": "https://localhost:8080/",
          "height": 1000
        },
        "id": "diiu9VEddejn",
        "outputId": "cf1f5afd-a57a-4d20-b1c3-da0303964085"
      },
      "source": [
        "df"
      ],
      "execution_count": null,
      "outputs": [
        {
          "output_type": "execute_result",
          "data": {
            "text/html": [
              "<div>\n",
              "<style scoped>\n",
              "    .dataframe tbody tr th:only-of-type {\n",
              "        vertical-align: middle;\n",
              "    }\n",
              "\n",
              "    .dataframe tbody tr th {\n",
              "        vertical-align: top;\n",
              "    }\n",
              "\n",
              "    .dataframe thead th {\n",
              "        text-align: right;\n",
              "    }\n",
              "</style>\n",
              "<table border=\"1\" class=\"dataframe\">\n",
              "  <thead>\n",
              "    <tr style=\"text-align: right;\">\n",
              "      <th></th>\n",
              "      <th>Timestamp</th>\n",
              "      <th>YouTube Link</th>\n",
              "      <th>Sort by Singer</th>\n",
              "      <th>Category</th>\n",
              "      <th>Hey, Is it an Emraan Hashmi song ?</th>\n",
              "      <th>sl</th>\n",
              "      <th>cl</th>\n",
              "      <th>el</th>\n",
              "    </tr>\n",
              "  </thead>\n",
              "  <tbody>\n",
              "    <tr>\n",
              "      <th>0</th>\n",
              "      <td>7/3/2021 20:40:47</td>\n",
              "      <td>https://www.youtube.com/watch?v=pX5m9gN7Z60</td>\n",
              "      <td>Mohit Suri, Neeraj Shridhar</td>\n",
              "      <td>Romantic</td>\n",
              "      <td>Yup !!!</td>\n",
              "      <td></td>\n",
              "      <td></td>\n",
              "      <td></td>\n",
              "    </tr>\n",
              "    <tr>\n",
              "      <th>1</th>\n",
              "      <td>7/4/2021 12:05:48</td>\n",
              "      <td>https://www.youtube.com/watch?v=UlacMvx_VYk</td>\n",
              "      <td>KK</td>\n",
              "      <td>Sad, Romantic</td>\n",
              "      <td>Yup !!!</td>\n",
              "      <td></td>\n",
              "      <td></td>\n",
              "      <td></td>\n",
              "    </tr>\n",
              "    <tr>\n",
              "      <th>2</th>\n",
              "      <td>7/4/2021 12:54:48</td>\n",
              "      <td>https://www.youtube.com/watch?v=2z28q09koAg</td>\n",
              "      <td>Others</td>\n",
              "      <td>Sad</td>\n",
              "      <td></td>\n",
              "      <td></td>\n",
              "      <td></td>\n",
              "      <td></td>\n",
              "    </tr>\n",
              "    <tr>\n",
              "      <th>3</th>\n",
              "      <td>7/4/2021 13:03:43</td>\n",
              "      <td>https://www.youtube.com/watch?v=fXeIK4xbXgs</td>\n",
              "      <td>Others</td>\n",
              "      <td>Calm</td>\n",
              "      <td></td>\n",
              "      <td></td>\n",
              "      <td></td>\n",
              "      <td></td>\n",
              "    </tr>\n",
              "    <tr>\n",
              "      <th>4</th>\n",
              "      <td>7/4/2021 13:09:44</td>\n",
              "      <td>https://www.youtube.com/watch?v=oH6lp-dtzZw</td>\n",
              "      <td>Atif Aslam</td>\n",
              "      <td>Sad, Calm</td>\n",
              "      <td></td>\n",
              "      <td></td>\n",
              "      <td></td>\n",
              "      <td></td>\n",
              "    </tr>\n",
              "    <tr>\n",
              "      <th>5</th>\n",
              "      <td>7/5/2021 9:57:08</td>\n",
              "      <td>https://www.youtube.com/watch?v=GtWJmCLTq7A</td>\n",
              "      <td>KK, Shreya Ghoshal</td>\n",
              "      <td>Romantic, Calm</td>\n",
              "      <td>Yup !!!</td>\n",
              "      <td></td>\n",
              "      <td></td>\n",
              "      <td></td>\n",
              "    </tr>\n",
              "    <tr>\n",
              "      <th>6</th>\n",
              "      <td>7/5/2021 10:46:18</td>\n",
              "      <td>https://www.youtube.com/watch?v=KtHRBvNHRyo</td>\n",
              "      <td>Atif Aslam</td>\n",
              "      <td>Romantic, Calm</td>\n",
              "      <td>Yup !!!</td>\n",
              "      <td></td>\n",
              "      <td></td>\n",
              "      <td></td>\n",
              "    </tr>\n",
              "    <tr>\n",
              "      <th>7</th>\n",
              "      <td>7/5/2021 10:49:48</td>\n",
              "      <td>https://www.youtube.com/watch?v=zFdi834FiZ4</td>\n",
              "      <td>Atif Aslam</td>\n",
              "      <td>Romantic, Calm</td>\n",
              "      <td></td>\n",
              "      <td></td>\n",
              "      <td></td>\n",
              "      <td></td>\n",
              "    </tr>\n",
              "    <tr>\n",
              "      <th>8</th>\n",
              "      <td>7/5/2021 10:51:43</td>\n",
              "      <td>https://www.youtube.com/watch?v=WgKox1wWiiw</td>\n",
              "      <td>Others</td>\n",
              "      <td>Calm</td>\n",
              "      <td></td>\n",
              "      <td></td>\n",
              "      <td></td>\n",
              "      <td></td>\n",
              "    </tr>\n",
              "    <tr>\n",
              "      <th>9</th>\n",
              "      <td>7/5/2021 10:53:15</td>\n",
              "      <td>https://www.youtube.com/watch?v=boRd0WoCemI</td>\n",
              "      <td>Others</td>\n",
              "      <td>Calm</td>\n",
              "      <td></td>\n",
              "      <td></td>\n",
              "      <td></td>\n",
              "      <td></td>\n",
              "    </tr>\n",
              "    <tr>\n",
              "      <th>10</th>\n",
              "      <td>7/5/2021 10:56:38</td>\n",
              "      <td>https://www.youtube.com/watch?v=NCvOzlvW2EA</td>\n",
              "      <td>Shreya Ghoshal</td>\n",
              "      <td>Romantic, Calm</td>\n",
              "      <td></td>\n",
              "      <td></td>\n",
              "      <td></td>\n",
              "      <td></td>\n",
              "    </tr>\n",
              "    <tr>\n",
              "      <th>11</th>\n",
              "      <td>7/5/2021 10:59:53</td>\n",
              "      <td>https://www.youtube.com/watch?v=byitAI7kkOM</td>\n",
              "      <td>Others</td>\n",
              "      <td>Romantic</td>\n",
              "      <td>Yup !!!</td>\n",
              "      <td></td>\n",
              "      <td></td>\n",
              "      <td></td>\n",
              "    </tr>\n",
              "    <tr>\n",
              "      <th>12</th>\n",
              "      <td>7/5/2021 11:07:35</td>\n",
              "      <td>https://www.youtube.com/watch?v=voXyGdKEoyM</td>\n",
              "      <td>Others</td>\n",
              "      <td>Sad, Calm</td>\n",
              "      <td>Yup !!!</td>\n",
              "      <td></td>\n",
              "      <td></td>\n",
              "      <td></td>\n",
              "    </tr>\n",
              "    <tr>\n",
              "      <th>13</th>\n",
              "      <td>7/5/2021 11:15:51</td>\n",
              "      <td>https://www.youtube.com/watch?v=0mfen2YtSj8</td>\n",
              "      <td>Others</td>\n",
              "      <td>Romantic, Calm</td>\n",
              "      <td>Yup !!!</td>\n",
              "      <td></td>\n",
              "      <td></td>\n",
              "      <td></td>\n",
              "    </tr>\n",
              "    <tr>\n",
              "      <th>14</th>\n",
              "      <td>7/5/2021 11:18:19</td>\n",
              "      <td>https://www.youtube.com/watch?v=f0dxu8rPTRg</td>\n",
              "      <td>KK</td>\n",
              "      <td>Sad, Calm</td>\n",
              "      <td>Yup !!!</td>\n",
              "      <td></td>\n",
              "      <td></td>\n",
              "      <td></td>\n",
              "    </tr>\n",
              "    <tr>\n",
              "      <th>15</th>\n",
              "      <td>7/5/2021 11:22:23</td>\n",
              "      <td>https://www.youtube.com/watch?v=GtNrQy90Ih4</td>\n",
              "      <td>Shreya Ghoshal</td>\n",
              "      <td>Romantic, Calm</td>\n",
              "      <td></td>\n",
              "      <td></td>\n",
              "      <td></td>\n",
              "      <td></td>\n",
              "    </tr>\n",
              "    <tr>\n",
              "      <th>16</th>\n",
              "      <td>7/5/2021 11:24:12</td>\n",
              "      <td>https://www.youtube.com/watch?v=CtbgewRzhZE</td>\n",
              "      <td>KK</td>\n",
              "      <td>Party</td>\n",
              "      <td>Yup !!!</td>\n",
              "      <td></td>\n",
              "      <td></td>\n",
              "      <td></td>\n",
              "    </tr>\n",
              "    <tr>\n",
              "      <th>17</th>\n",
              "      <td>7/5/2021 11:25:32</td>\n",
              "      <td>https://www.youtube.com/watch?v=W31LlujrB08</td>\n",
              "      <td>Others</td>\n",
              "      <td>Romantic, Calm</td>\n",
              "      <td></td>\n",
              "      <td></td>\n",
              "      <td></td>\n",
              "      <td></td>\n",
              "    </tr>\n",
              "    <tr>\n",
              "      <th>18</th>\n",
              "      <td>7/6/2021 0:42:21</td>\n",
              "      <td>https://www.youtube.com/watch?v=3O6eYd8pUM8</td>\n",
              "      <td>Others</td>\n",
              "      <td>Romantic, Calm</td>\n",
              "      <td>Yup !!!</td>\n",
              "      <td></td>\n",
              "      <td></td>\n",
              "      <td></td>\n",
              "    </tr>\n",
              "    <tr>\n",
              "      <th>19</th>\n",
              "      <td>7/6/2021 0:44:58</td>\n",
              "      <td>https://www.youtube.com/watch?v=NlEaUHfunMI</td>\n",
              "      <td>Others</td>\n",
              "      <td>Sad</td>\n",
              "      <td>Yup !!!</td>\n",
              "      <td></td>\n",
              "      <td></td>\n",
              "      <td></td>\n",
              "    </tr>\n",
              "    <tr>\n",
              "      <th>20</th>\n",
              "      <td>7/6/2021 1:14:54</td>\n",
              "      <td>https://www.youtube.com/watch?v=vJhMY8CCH5I</td>\n",
              "      <td>Others</td>\n",
              "      <td>Romantic</td>\n",
              "      <td>Yup !!!</td>\n",
              "      <td></td>\n",
              "      <td></td>\n",
              "      <td></td>\n",
              "    </tr>\n",
              "    <tr>\n",
              "      <th>21</th>\n",
              "      <td>7/6/2021 1:17:49</td>\n",
              "      <td>https://www.youtube.com/watch?v=mXg0b5xRfYg</td>\n",
              "      <td>Others</td>\n",
              "      <td>Romantic, Calm</td>\n",
              "      <td></td>\n",
              "      <td></td>\n",
              "      <td></td>\n",
              "      <td></td>\n",
              "    </tr>\n",
              "    <tr>\n",
              "      <th>22</th>\n",
              "      <td>7/6/2021 1:20:33</td>\n",
              "      <td>https://www.youtube.com/watch?v=WIrK4zasCLk</td>\n",
              "      <td>Shreya Ghoshal</td>\n",
              "      <td>Party</td>\n",
              "      <td>Yup !!!</td>\n",
              "      <td></td>\n",
              "      <td></td>\n",
              "      <td></td>\n",
              "    </tr>\n",
              "    <tr>\n",
              "      <th>23</th>\n",
              "      <td>7/6/2021 9:42:16</td>\n",
              "      <td>https://www.youtube.com/watch?v=B1l8KIzcoRM</td>\n",
              "      <td>Others</td>\n",
              "      <td>Romantic</td>\n",
              "      <td>Yup !!!</td>\n",
              "      <td></td>\n",
              "      <td></td>\n",
              "      <td></td>\n",
              "    </tr>\n",
              "    <tr>\n",
              "      <th>24</th>\n",
              "      <td>7/6/2021 21:08:12</td>\n",
              "      <td>https://youtu.be/3O6eYd8pUM8s</td>\n",
              "      <td>Others</td>\n",
              "      <td>Romantic, Calm</td>\n",
              "      <td>Yup !!!</td>\n",
              "      <td></td>\n",
              "      <td></td>\n",
              "      <td></td>\n",
              "    </tr>\n",
              "    <tr>\n",
              "      <th>25</th>\n",
              "      <td>7/6/2021 21:09:55</td>\n",
              "      <td>https://youtu.be/aPitOCcK1iU</td>\n",
              "      <td>Others</td>\n",
              "      <td>Sad, Romantic</td>\n",
              "      <td></td>\n",
              "      <td></td>\n",
              "      <td></td>\n",
              "      <td></td>\n",
              "    </tr>\n",
              "    <tr>\n",
              "      <th>26</th>\n",
              "      <td>7/6/2021 21:40:23</td>\n",
              "      <td>https://youtu.be/lUPltG1hb3k</td>\n",
              "      <td>KK</td>\n",
              "      <td>Romantic, Calm</td>\n",
              "      <td>Yup !!!</td>\n",
              "      <td></td>\n",
              "      <td></td>\n",
              "      <td></td>\n",
              "    </tr>\n",
              "    <tr>\n",
              "      <th>27</th>\n",
              "      <td>7/6/2021 21:41:15</td>\n",
              "      <td>https://youtu.be/DRdMWHiuBtA</td>\n",
              "      <td>Others</td>\n",
              "      <td>Romantic</td>\n",
              "      <td></td>\n",
              "      <td></td>\n",
              "      <td></td>\n",
              "      <td></td>\n",
              "    </tr>\n",
              "    <tr>\n",
              "      <th>28</th>\n",
              "      <td>7/6/2021 21:42:30</td>\n",
              "      <td>https://youtu.be/6Ss2Ga7A0TA</td>\n",
              "      <td>Shreya Ghoshal, Others</td>\n",
              "      <td>Romantic, Calm</td>\n",
              "      <td></td>\n",
              "      <td></td>\n",
              "      <td></td>\n",
              "      <td></td>\n",
              "    </tr>\n",
              "    <tr>\n",
              "      <th>29</th>\n",
              "      <td>7/6/2021 21:45:00</td>\n",
              "      <td>https://youtu.be/8M1WQCOG-Nw</td>\n",
              "      <td>Others</td>\n",
              "      <td>Romantic, Calm</td>\n",
              "      <td></td>\n",
              "      <td></td>\n",
              "      <td></td>\n",
              "      <td></td>\n",
              "    </tr>\n",
              "    <tr>\n",
              "      <th>30</th>\n",
              "      <td>7/6/2021 21:47:15</td>\n",
              "      <td>https://youtu.be/Pcy1hfY6egc</td>\n",
              "      <td>KK</td>\n",
              "      <td>Romantic</td>\n",
              "      <td></td>\n",
              "      <td></td>\n",
              "      <td></td>\n",
              "      <td></td>\n",
              "    </tr>\n",
              "    <tr>\n",
              "      <th>31</th>\n",
              "      <td>7/6/2021 21:49:02</td>\n",
              "      <td>https://youtu.be/m6Y8xEfyXTs</td>\n",
              "      <td>Others</td>\n",
              "      <td>Romantic</td>\n",
              "      <td></td>\n",
              "      <td></td>\n",
              "      <td></td>\n",
              "      <td></td>\n",
              "    </tr>\n",
              "    <tr>\n",
              "      <th>32</th>\n",
              "      <td>7/6/2021 21:50:45</td>\n",
              "      <td>https://youtu.be/Qc7yMCLV4hY</td>\n",
              "      <td>Kumar Sanu, Others</td>\n",
              "      <td>Calm</td>\n",
              "      <td></td>\n",
              "      <td></td>\n",
              "      <td></td>\n",
              "      <td></td>\n",
              "    </tr>\n",
              "    <tr>\n",
              "      <th>33</th>\n",
              "      <td>7/6/2021 21:54:04</td>\n",
              "      <td>https://youtu.be/AtnB0DbuFFU</td>\n",
              "      <td>Others</td>\n",
              "      <td>Romantic, Calm</td>\n",
              "      <td></td>\n",
              "      <td></td>\n",
              "      <td></td>\n",
              "      <td></td>\n",
              "    </tr>\n",
              "    <tr>\n",
              "      <th>34</th>\n",
              "      <td>7/6/2021 21:59:26</td>\n",
              "      <td>https://youtu.be/qFhOGfQBMDY</td>\n",
              "      <td>Shreya Ghoshal</td>\n",
              "      <td>Romantic, Calm</td>\n",
              "      <td></td>\n",
              "      <td></td>\n",
              "      <td></td>\n",
              "      <td></td>\n",
              "    </tr>\n",
              "    <tr>\n",
              "      <th>35</th>\n",
              "      <td>7/6/2021 22:01:47</td>\n",
              "      <td>https://youtu.be/Jtg2zyS_y_c</td>\n",
              "      <td>Kumar Sanu</td>\n",
              "      <td>Romantic</td>\n",
              "      <td></td>\n",
              "      <td></td>\n",
              "      <td></td>\n",
              "      <td></td>\n",
              "    </tr>\n",
              "    <tr>\n",
              "      <th>36</th>\n",
              "      <td>7/6/2021 22:03:49</td>\n",
              "      <td>https://youtu.be/BxOsU5cmnCU</td>\n",
              "      <td>Others</td>\n",
              "      <td>Sad, Calm</td>\n",
              "      <td>Yup !!!</td>\n",
              "      <td></td>\n",
              "      <td></td>\n",
              "      <td></td>\n",
              "    </tr>\n",
              "    <tr>\n",
              "      <th>37</th>\n",
              "      <td>7/8/2021 17:54:01</td>\n",
              "      <td>https://www.youtube.com/watch?v=1KvCHSlK9vc</td>\n",
              "      <td>Alka Yagnik, Others</td>\n",
              "      <td>Romantic, Calm</td>\n",
              "      <td>Yup !!!</td>\n",
              "      <td></td>\n",
              "      <td></td>\n",
              "      <td></td>\n",
              "    </tr>\n",
              "    <tr>\n",
              "      <th>38</th>\n",
              "      <td>7/8/2021 18:02:52</td>\n",
              "      <td>https://www.youtube.com/watch?v=pv-Uio2sDBU</td>\n",
              "      <td>KK</td>\n",
              "      <td>Sad, Romantic, Calm</td>\n",
              "      <td>Yup !!!</td>\n",
              "      <td></td>\n",
              "      <td></td>\n",
              "      <td></td>\n",
              "    </tr>\n",
              "    <tr>\n",
              "      <th>39</th>\n",
              "      <td>7/8/2021 23:14:44</td>\n",
              "      <td>https://www.youtube.com/watch?v=9HVos5MX3XM</td>\n",
              "      <td>Sonu Nigam</td>\n",
              "      <td>Romantic, Calm</td>\n",
              "      <td></td>\n",
              "      <td></td>\n",
              "      <td></td>\n",
              "      <td></td>\n",
              "    </tr>\n",
              "    <tr>\n",
              "      <th>40</th>\n",
              "      <td>7/9/2021 1:45:40</td>\n",
              "      <td>https://www.youtube.com/watch?v=lL0ULDPCqIA</td>\n",
              "      <td>Shreya Ghoshal</td>\n",
              "      <td>Romantic</td>\n",
              "      <td></td>\n",
              "      <td></td>\n",
              "      <td></td>\n",
              "      <td></td>\n",
              "    </tr>\n",
              "    <tr>\n",
              "      <th>41</th>\n",
              "      <td>7/9/2021 1:47:07</td>\n",
              "      <td>https://www.youtube.com/watch?v=yLA4ch5BqA8&amp;li...</td>\n",
              "      <td>Shreya Ghoshal</td>\n",
              "      <td>Romantic</td>\n",
              "      <td></td>\n",
              "      <td></td>\n",
              "      <td></td>\n",
              "      <td></td>\n",
              "    </tr>\n",
              "    <tr>\n",
              "      <th>42</th>\n",
              "      <td>7/9/2021 1:47:49</td>\n",
              "      <td>https://www.youtube.com/watch?v=RpuhD_xKadk&amp;li...</td>\n",
              "      <td>Others</td>\n",
              "      <td>Party</td>\n",
              "      <td></td>\n",
              "      <td></td>\n",
              "      <td></td>\n",
              "      <td></td>\n",
              "    </tr>\n",
              "    <tr>\n",
              "      <th>43</th>\n",
              "      <td>7/9/2021 1:48:44</td>\n",
              "      <td>https://www.youtube.com/watch?v=2MssEnEkuCw</td>\n",
              "      <td>Alka Yagnik</td>\n",
              "      <td>Romantic</td>\n",
              "      <td></td>\n",
              "      <td></td>\n",
              "      <td></td>\n",
              "      <td></td>\n",
              "    </tr>\n",
              "    <tr>\n",
              "      <th>44</th>\n",
              "      <td>7/9/2021 1:49:41</td>\n",
              "      <td>https://www.youtube.com/watch?v=3UuSmbx6Xsg</td>\n",
              "      <td>Alka Yagnik</td>\n",
              "      <td>Romantic</td>\n",
              "      <td></td>\n",
              "      <td></td>\n",
              "      <td></td>\n",
              "      <td></td>\n",
              "    </tr>\n",
              "    <tr>\n",
              "      <th>45</th>\n",
              "      <td>7/9/2021 1:50:50</td>\n",
              "      <td>https://www.youtube.com/watch?v=on09JDRyoE0</td>\n",
              "      <td>Others</td>\n",
              "      <td>Others</td>\n",
              "      <td>Yup !!!</td>\n",
              "      <td></td>\n",
              "      <td></td>\n",
              "      <td></td>\n",
              "    </tr>\n",
              "    <tr>\n",
              "      <th>46</th>\n",
              "      <td>7/9/2021 1:51:21</td>\n",
              "      <td>https://www.youtube.com/watch?v=I9cTsZKn8bY</td>\n",
              "      <td>Others</td>\n",
              "      <td>Romantic</td>\n",
              "      <td>Yup !!!</td>\n",
              "      <td></td>\n",
              "      <td></td>\n",
              "      <td></td>\n",
              "    </tr>\n",
              "    <tr>\n",
              "      <th>47</th>\n",
              "      <td>7/9/2021 8:53:18</td>\n",
              "      <td>https://youtu.be/KSGYVl4ZgRs</td>\n",
              "      <td>Arijit Singh</td>\n",
              "      <td>Sad, Calm</td>\n",
              "      <td>Yup !!!</td>\n",
              "      <td></td>\n",
              "      <td></td>\n",
              "      <td></td>\n",
              "    </tr>\n",
              "    <tr>\n",
              "      <th>48</th>\n",
              "      <td>7/10/2021 14:26:40</td>\n",
              "      <td>https://youtu.be/fXeIK4xbXgs</td>\n",
              "      <td>Others</td>\n",
              "      <td>Romantic, Calm</td>\n",
              "      <td></td>\n",
              "      <td></td>\n",
              "      <td></td>\n",
              "      <td></td>\n",
              "    </tr>\n",
              "    <tr>\n",
              "      <th>49</th>\n",
              "      <td>7/12/2021 12:38:27</td>\n",
              "      <td>https://youtu.be/_qrxVjvVp4M</td>\n",
              "      <td>Others</td>\n",
              "      <td>Romantic, Calm</td>\n",
              "      <td></td>\n",
              "      <td></td>\n",
              "      <td></td>\n",
              "      <td></td>\n",
              "    </tr>\n",
              "  </tbody>\n",
              "</table>\n",
              "</div>"
            ],
            "text/plain": [
              "             Timestamp                                       YouTube Link  ... cl el\n",
              "0    7/3/2021 20:40:47        https://www.youtube.com/watch?v=pX5m9gN7Z60  ...      \n",
              "1    7/4/2021 12:05:48        https://www.youtube.com/watch?v=UlacMvx_VYk  ...      \n",
              "2    7/4/2021 12:54:48        https://www.youtube.com/watch?v=2z28q09koAg  ...      \n",
              "3    7/4/2021 13:03:43        https://www.youtube.com/watch?v=fXeIK4xbXgs  ...      \n",
              "4    7/4/2021 13:09:44        https://www.youtube.com/watch?v=oH6lp-dtzZw  ...      \n",
              "5     7/5/2021 9:57:08        https://www.youtube.com/watch?v=GtWJmCLTq7A  ...      \n",
              "6    7/5/2021 10:46:18        https://www.youtube.com/watch?v=KtHRBvNHRyo  ...      \n",
              "7    7/5/2021 10:49:48        https://www.youtube.com/watch?v=zFdi834FiZ4  ...      \n",
              "8    7/5/2021 10:51:43        https://www.youtube.com/watch?v=WgKox1wWiiw  ...      \n",
              "9    7/5/2021 10:53:15        https://www.youtube.com/watch?v=boRd0WoCemI  ...      \n",
              "10   7/5/2021 10:56:38        https://www.youtube.com/watch?v=NCvOzlvW2EA  ...      \n",
              "11   7/5/2021 10:59:53        https://www.youtube.com/watch?v=byitAI7kkOM  ...      \n",
              "12   7/5/2021 11:07:35        https://www.youtube.com/watch?v=voXyGdKEoyM  ...      \n",
              "13   7/5/2021 11:15:51        https://www.youtube.com/watch?v=0mfen2YtSj8  ...      \n",
              "14   7/5/2021 11:18:19        https://www.youtube.com/watch?v=f0dxu8rPTRg  ...      \n",
              "15   7/5/2021 11:22:23        https://www.youtube.com/watch?v=GtNrQy90Ih4  ...      \n",
              "16   7/5/2021 11:24:12        https://www.youtube.com/watch?v=CtbgewRzhZE  ...      \n",
              "17   7/5/2021 11:25:32        https://www.youtube.com/watch?v=W31LlujrB08  ...      \n",
              "18    7/6/2021 0:42:21        https://www.youtube.com/watch?v=3O6eYd8pUM8  ...      \n",
              "19    7/6/2021 0:44:58        https://www.youtube.com/watch?v=NlEaUHfunMI  ...      \n",
              "20    7/6/2021 1:14:54        https://www.youtube.com/watch?v=vJhMY8CCH5I  ...      \n",
              "21    7/6/2021 1:17:49        https://www.youtube.com/watch?v=mXg0b5xRfYg  ...      \n",
              "22    7/6/2021 1:20:33        https://www.youtube.com/watch?v=WIrK4zasCLk  ...      \n",
              "23    7/6/2021 9:42:16        https://www.youtube.com/watch?v=B1l8KIzcoRM  ...      \n",
              "24   7/6/2021 21:08:12                      https://youtu.be/3O6eYd8pUM8s  ...      \n",
              "25   7/6/2021 21:09:55                       https://youtu.be/aPitOCcK1iU  ...      \n",
              "26   7/6/2021 21:40:23                       https://youtu.be/lUPltG1hb3k  ...      \n",
              "27   7/6/2021 21:41:15                       https://youtu.be/DRdMWHiuBtA  ...      \n",
              "28   7/6/2021 21:42:30                       https://youtu.be/6Ss2Ga7A0TA  ...      \n",
              "29   7/6/2021 21:45:00                       https://youtu.be/8M1WQCOG-Nw  ...      \n",
              "30   7/6/2021 21:47:15                       https://youtu.be/Pcy1hfY6egc  ...      \n",
              "31   7/6/2021 21:49:02                       https://youtu.be/m6Y8xEfyXTs  ...      \n",
              "32   7/6/2021 21:50:45                       https://youtu.be/Qc7yMCLV4hY  ...      \n",
              "33   7/6/2021 21:54:04                       https://youtu.be/AtnB0DbuFFU  ...      \n",
              "34   7/6/2021 21:59:26                       https://youtu.be/qFhOGfQBMDY  ...      \n",
              "35   7/6/2021 22:01:47                       https://youtu.be/Jtg2zyS_y_c  ...      \n",
              "36   7/6/2021 22:03:49                       https://youtu.be/BxOsU5cmnCU  ...      \n",
              "37   7/8/2021 17:54:01        https://www.youtube.com/watch?v=1KvCHSlK9vc  ...      \n",
              "38   7/8/2021 18:02:52        https://www.youtube.com/watch?v=pv-Uio2sDBU  ...      \n",
              "39   7/8/2021 23:14:44        https://www.youtube.com/watch?v=9HVos5MX3XM  ...      \n",
              "40    7/9/2021 1:45:40        https://www.youtube.com/watch?v=lL0ULDPCqIA  ...      \n",
              "41    7/9/2021 1:47:07  https://www.youtube.com/watch?v=yLA4ch5BqA8&li...  ...      \n",
              "42    7/9/2021 1:47:49  https://www.youtube.com/watch?v=RpuhD_xKadk&li...  ...      \n",
              "43    7/9/2021 1:48:44        https://www.youtube.com/watch?v=2MssEnEkuCw  ...      \n",
              "44    7/9/2021 1:49:41        https://www.youtube.com/watch?v=3UuSmbx6Xsg  ...      \n",
              "45    7/9/2021 1:50:50        https://www.youtube.com/watch?v=on09JDRyoE0  ...      \n",
              "46    7/9/2021 1:51:21        https://www.youtube.com/watch?v=I9cTsZKn8bY  ...      \n",
              "47    7/9/2021 8:53:18                       https://youtu.be/KSGYVl4ZgRs  ...      \n",
              "48  7/10/2021 14:26:40                       https://youtu.be/fXeIK4xbXgs  ...      \n",
              "49  7/12/2021 12:38:27                       https://youtu.be/_qrxVjvVp4M  ...      \n",
              "\n",
              "[50 rows x 8 columns]"
            ]
          },
          "metadata": {
            "tags": []
          },
          "execution_count": 10
        }
      ]
    },
    {
      "cell_type": "code",
      "metadata": {
        "id": "tRZZmNJbomUO"
      },
      "source": [
        "# 'key_list' is tthe list \n",
        "\n",
        "def create_link(key_list,head_list,temp_list,song_no, sorting_col, linking_col) :\n",
        "  if sorting_col.find(key_list[v][0])!=-1 :\n",
        "    s_idx = string.ascii_lowercase.index(key_list[v][1])\n",
        "    if head_list[s_idx] == -1 :\n",
        "      head_list[s_idx] = song_no\n",
        "      temp_list[s_idx] = song_no\n",
        "    else :\n",
        "      df.at[temp_list[s_idx] , linking_col] += key_list[v][1] + str(song_no) + '_'\n",
        "      temp_list[s_idx] = song_no "
      ],
      "execution_count": null,
      "outputs": []
    },
    {
      "cell_type": "code",
      "metadata": {
        "id": "yZKozNuBd-sJ"
      },
      "source": [
        "head_singer_list = [-1]*len(singer_key)\n",
        "head_category_list = [-1]*len(category_key)\n",
        "head_emraan_list = -1\n",
        "\n",
        "singer_list = [-1]*len(singer_key)\n",
        "category_list = [-1]*len(category_key)\n",
        "emraan_list = -1\n",
        "\n",
        "for song_no in range(len(df.index)) :\n",
        "  c = df.at[song_no, \"Category\"]\n",
        "  s = df.at[song_no, \"Sort by Singer\"]\n",
        "  l = df.at[song_no, \"YouTube Link\"]\n",
        "  e = df.at[song_no, \"Hey, Is it an Emraan Hashmi song ?\"]\n",
        "\n",
        "  for v in range(len(singer_key)) :\n",
        "    if s.find(singer_key[v][0])!=-1 :\n",
        "      s_idx = string.ascii_lowercase.index(singer_key[v][1])\n",
        "      if head_singer_list[s_idx] == -1 :\n",
        "        head_singer_list[s_idx] = song_no\n",
        "        singer_list[s_idx] = song_no\n",
        "      else :\n",
        "        df.at[singer_list[s_idx] , \"sl\"] += singer_key[v][1] + str(song_no) + '_'\n",
        "        singer_list[s_idx] = song_no\n",
        "\n",
        "  for v in range(len(category_key)) :\n",
        "    if c.find(category_key[v][0])!=-1 :\n",
        "      c_idx = string.ascii_lowercase.index(category_key[v][1])\n",
        "      if head_category_list[c_idx] == -1 :\n",
        "        head_category_list[c_idx] = song_no\n",
        "        category_list[c_idx] = song_no\n",
        "      else :\n",
        "        df.at[category_list[c_idx] , \"cl\"] += category_key[v][1] + str(song_no) + '_'\n",
        "        category_list[c_idx] = song_no\n",
        "\n",
        "  if e.find('Yup !!!')!=-1 :\n",
        "    if head_emraan_list == -1 :\n",
        "      head_emraan_list = song_no\n",
        "      emraan_list = song_no\n",
        "    else :\n",
        "      df.at[emraan_list , \"el\"] += str(song_no) \n",
        "      emraan_list = song_no\n",
        "\n",
        "\n"
      ],
      "execution_count": null,
      "outputs": []
    },
    {
      "cell_type": "code",
      "metadata": {
        "colab": {
          "base_uri": "https://localhost:8080/",
          "height": 1000
        },
        "id": "V6SZpmya_v5G",
        "outputId": "9fa15bfb-1bb4-46fa-db69-8b4e2881ab14"
      },
      "source": [
        "print(head_singer_list)\n",
        "print(head_category_list)\n",
        "print(head_emraan_list)\n",
        "df"
      ],
      "execution_count": null,
      "outputs": [
        {
          "output_type": "stream",
          "text": [
            "[1, 5, 47, 39, -1, 4, -1, 0, 0, 32, 37, 2]\n",
            "[1, 0, 16, -1, 3, 45]\n",
            "0\n"
          ],
          "name": "stdout"
        },
        {
          "output_type": "execute_result",
          "data": {
            "text/html": [
              "<div>\n",
              "<style scoped>\n",
              "    .dataframe tbody tr th:only-of-type {\n",
              "        vertical-align: middle;\n",
              "    }\n",
              "\n",
              "    .dataframe tbody tr th {\n",
              "        vertical-align: top;\n",
              "    }\n",
              "\n",
              "    .dataframe thead th {\n",
              "        text-align: right;\n",
              "    }\n",
              "</style>\n",
              "<table border=\"1\" class=\"dataframe\">\n",
              "  <thead>\n",
              "    <tr style=\"text-align: right;\">\n",
              "      <th></th>\n",
              "      <th>Timestamp</th>\n",
              "      <th>YouTube Link</th>\n",
              "      <th>Sort by Singer</th>\n",
              "      <th>Category</th>\n",
              "      <th>Hey, Is it an Emraan Hashmi song ?</th>\n",
              "      <th>sl</th>\n",
              "      <th>cl</th>\n",
              "      <th>el</th>\n",
              "    </tr>\n",
              "  </thead>\n",
              "  <tbody>\n",
              "    <tr>\n",
              "      <th>0</th>\n",
              "      <td>7/3/2021 20:40:47</td>\n",
              "      <td>https://www.youtube.com/watch?v=pX5m9gN7Z60</td>\n",
              "      <td>Mohit Suri, Neeraj Shridhar</td>\n",
              "      <td>Romantic</td>\n",
              "      <td>Yup !!!</td>\n",
              "      <td></td>\n",
              "      <td>b1_</td>\n",
              "      <td>1</td>\n",
              "    </tr>\n",
              "    <tr>\n",
              "      <th>1</th>\n",
              "      <td>7/4/2021 12:05:48</td>\n",
              "      <td>https://www.youtube.com/watch?v=UlacMvx_VYk</td>\n",
              "      <td>KK</td>\n",
              "      <td>Sad, Romantic</td>\n",
              "      <td>Yup !!!</td>\n",
              "      <td>a5_</td>\n",
              "      <td>a2_b5_</td>\n",
              "      <td>5</td>\n",
              "    </tr>\n",
              "    <tr>\n",
              "      <th>2</th>\n",
              "      <td>7/4/2021 12:54:48</td>\n",
              "      <td>https://www.youtube.com/watch?v=2z28q09koAg</td>\n",
              "      <td>Others</td>\n",
              "      <td>Sad</td>\n",
              "      <td></td>\n",
              "      <td>l3_</td>\n",
              "      <td>a4_</td>\n",
              "      <td></td>\n",
              "    </tr>\n",
              "    <tr>\n",
              "      <th>3</th>\n",
              "      <td>7/4/2021 13:03:43</td>\n",
              "      <td>https://www.youtube.com/watch?v=fXeIK4xbXgs</td>\n",
              "      <td>Others</td>\n",
              "      <td>Calm</td>\n",
              "      <td></td>\n",
              "      <td>l8_</td>\n",
              "      <td>e4_</td>\n",
              "      <td></td>\n",
              "    </tr>\n",
              "    <tr>\n",
              "      <th>4</th>\n",
              "      <td>7/4/2021 13:09:44</td>\n",
              "      <td>https://www.youtube.com/watch?v=oH6lp-dtzZw</td>\n",
              "      <td>Atif Aslam</td>\n",
              "      <td>Sad, Calm</td>\n",
              "      <td></td>\n",
              "      <td>f6_</td>\n",
              "      <td>e5_a12_</td>\n",
              "      <td></td>\n",
              "    </tr>\n",
              "    <tr>\n",
              "      <th>5</th>\n",
              "      <td>7/5/2021 9:57:08</td>\n",
              "      <td>https://www.youtube.com/watch?v=GtWJmCLTq7A</td>\n",
              "      <td>KK, Shreya Ghoshal</td>\n",
              "      <td>Romantic, Calm</td>\n",
              "      <td>Yup !!!</td>\n",
              "      <td>b10_a14_</td>\n",
              "      <td>b6_e6_</td>\n",
              "      <td>6</td>\n",
              "    </tr>\n",
              "    <tr>\n",
              "      <th>6</th>\n",
              "      <td>7/5/2021 10:46:18</td>\n",
              "      <td>https://www.youtube.com/watch?v=KtHRBvNHRyo</td>\n",
              "      <td>Atif Aslam</td>\n",
              "      <td>Romantic, Calm</td>\n",
              "      <td>Yup !!!</td>\n",
              "      <td>f7_</td>\n",
              "      <td>b7_e7_</td>\n",
              "      <td>11</td>\n",
              "    </tr>\n",
              "    <tr>\n",
              "      <th>7</th>\n",
              "      <td>7/5/2021 10:49:48</td>\n",
              "      <td>https://www.youtube.com/watch?v=zFdi834FiZ4</td>\n",
              "      <td>Atif Aslam</td>\n",
              "      <td>Romantic, Calm</td>\n",
              "      <td></td>\n",
              "      <td></td>\n",
              "      <td>e8_b10_</td>\n",
              "      <td></td>\n",
              "    </tr>\n",
              "    <tr>\n",
              "      <th>8</th>\n",
              "      <td>7/5/2021 10:51:43</td>\n",
              "      <td>https://www.youtube.com/watch?v=WgKox1wWiiw</td>\n",
              "      <td>Others</td>\n",
              "      <td>Calm</td>\n",
              "      <td></td>\n",
              "      <td>l9_</td>\n",
              "      <td>e9_</td>\n",
              "      <td></td>\n",
              "    </tr>\n",
              "    <tr>\n",
              "      <th>9</th>\n",
              "      <td>7/5/2021 10:53:15</td>\n",
              "      <td>https://www.youtube.com/watch?v=boRd0WoCemI</td>\n",
              "      <td>Others</td>\n",
              "      <td>Calm</td>\n",
              "      <td></td>\n",
              "      <td>l11_</td>\n",
              "      <td>e10_</td>\n",
              "      <td></td>\n",
              "    </tr>\n",
              "    <tr>\n",
              "      <th>10</th>\n",
              "      <td>7/5/2021 10:56:38</td>\n",
              "      <td>https://www.youtube.com/watch?v=NCvOzlvW2EA</td>\n",
              "      <td>Shreya Ghoshal</td>\n",
              "      <td>Romantic, Calm</td>\n",
              "      <td></td>\n",
              "      <td>b15_</td>\n",
              "      <td>b11_e12_</td>\n",
              "      <td></td>\n",
              "    </tr>\n",
              "    <tr>\n",
              "      <th>11</th>\n",
              "      <td>7/5/2021 10:59:53</td>\n",
              "      <td>https://www.youtube.com/watch?v=byitAI7kkOM</td>\n",
              "      <td>Others</td>\n",
              "      <td>Romantic</td>\n",
              "      <td>Yup !!!</td>\n",
              "      <td>l12_</td>\n",
              "      <td>b13_</td>\n",
              "      <td>12</td>\n",
              "    </tr>\n",
              "    <tr>\n",
              "      <th>12</th>\n",
              "      <td>7/5/2021 11:07:35</td>\n",
              "      <td>https://www.youtube.com/watch?v=voXyGdKEoyM</td>\n",
              "      <td>Others</td>\n",
              "      <td>Sad, Calm</td>\n",
              "      <td>Yup !!!</td>\n",
              "      <td>l13_</td>\n",
              "      <td>e13_a14_</td>\n",
              "      <td>13</td>\n",
              "    </tr>\n",
              "    <tr>\n",
              "      <th>13</th>\n",
              "      <td>7/5/2021 11:15:51</td>\n",
              "      <td>https://www.youtube.com/watch?v=0mfen2YtSj8</td>\n",
              "      <td>Others</td>\n",
              "      <td>Romantic, Calm</td>\n",
              "      <td>Yup !!!</td>\n",
              "      <td>l17_</td>\n",
              "      <td>e14_b15_</td>\n",
              "      <td>14</td>\n",
              "    </tr>\n",
              "    <tr>\n",
              "      <th>14</th>\n",
              "      <td>7/5/2021 11:18:19</td>\n",
              "      <td>https://www.youtube.com/watch?v=f0dxu8rPTRg</td>\n",
              "      <td>KK</td>\n",
              "      <td>Sad, Calm</td>\n",
              "      <td>Yup !!!</td>\n",
              "      <td>a16_</td>\n",
              "      <td>e15_a19_</td>\n",
              "      <td>16</td>\n",
              "    </tr>\n",
              "    <tr>\n",
              "      <th>15</th>\n",
              "      <td>7/5/2021 11:22:23</td>\n",
              "      <td>https://www.youtube.com/watch?v=GtNrQy90Ih4</td>\n",
              "      <td>Shreya Ghoshal</td>\n",
              "      <td>Romantic, Calm</td>\n",
              "      <td></td>\n",
              "      <td>b22_</td>\n",
              "      <td>b17_e17_</td>\n",
              "      <td></td>\n",
              "    </tr>\n",
              "    <tr>\n",
              "      <th>16</th>\n",
              "      <td>7/5/2021 11:24:12</td>\n",
              "      <td>https://www.youtube.com/watch?v=CtbgewRzhZE</td>\n",
              "      <td>KK</td>\n",
              "      <td>Party</td>\n",
              "      <td>Yup !!!</td>\n",
              "      <td>a26_</td>\n",
              "      <td>c22_</td>\n",
              "      <td>18</td>\n",
              "    </tr>\n",
              "    <tr>\n",
              "      <th>17</th>\n",
              "      <td>7/5/2021 11:25:32</td>\n",
              "      <td>https://www.youtube.com/watch?v=W31LlujrB08</td>\n",
              "      <td>Others</td>\n",
              "      <td>Romantic, Calm</td>\n",
              "      <td></td>\n",
              "      <td>l18_</td>\n",
              "      <td>b18_e18_</td>\n",
              "      <td></td>\n",
              "    </tr>\n",
              "    <tr>\n",
              "      <th>18</th>\n",
              "      <td>7/6/2021 0:42:21</td>\n",
              "      <td>https://www.youtube.com/watch?v=3O6eYd8pUM8</td>\n",
              "      <td>Others</td>\n",
              "      <td>Romantic, Calm</td>\n",
              "      <td>Yup !!!</td>\n",
              "      <td>l19_</td>\n",
              "      <td>b20_e21_</td>\n",
              "      <td>19</td>\n",
              "    </tr>\n",
              "    <tr>\n",
              "      <th>19</th>\n",
              "      <td>7/6/2021 0:44:58</td>\n",
              "      <td>https://www.youtube.com/watch?v=NlEaUHfunMI</td>\n",
              "      <td>Others</td>\n",
              "      <td>Sad</td>\n",
              "      <td>Yup !!!</td>\n",
              "      <td>l20_</td>\n",
              "      <td>a25_</td>\n",
              "      <td>20</td>\n",
              "    </tr>\n",
              "    <tr>\n",
              "      <th>20</th>\n",
              "      <td>7/6/2021 1:14:54</td>\n",
              "      <td>https://www.youtube.com/watch?v=vJhMY8CCH5I</td>\n",
              "      <td>Others</td>\n",
              "      <td>Romantic</td>\n",
              "      <td>Yup !!!</td>\n",
              "      <td>l21_</td>\n",
              "      <td>b21_</td>\n",
              "      <td>22</td>\n",
              "    </tr>\n",
              "    <tr>\n",
              "      <th>21</th>\n",
              "      <td>7/6/2021 1:17:49</td>\n",
              "      <td>https://www.youtube.com/watch?v=mXg0b5xRfYg</td>\n",
              "      <td>Others</td>\n",
              "      <td>Romantic, Calm</td>\n",
              "      <td></td>\n",
              "      <td>l23_</td>\n",
              "      <td>b23_e24_</td>\n",
              "      <td></td>\n",
              "    </tr>\n",
              "    <tr>\n",
              "      <th>22</th>\n",
              "      <td>7/6/2021 1:20:33</td>\n",
              "      <td>https://www.youtube.com/watch?v=WIrK4zasCLk</td>\n",
              "      <td>Shreya Ghoshal</td>\n",
              "      <td>Party</td>\n",
              "      <td>Yup !!!</td>\n",
              "      <td>b28_</td>\n",
              "      <td>c42_</td>\n",
              "      <td>23</td>\n",
              "    </tr>\n",
              "    <tr>\n",
              "      <th>23</th>\n",
              "      <td>7/6/2021 9:42:16</td>\n",
              "      <td>https://www.youtube.com/watch?v=B1l8KIzcoRM</td>\n",
              "      <td>Others</td>\n",
              "      <td>Romantic</td>\n",
              "      <td>Yup !!!</td>\n",
              "      <td>l24_</td>\n",
              "      <td>b24_</td>\n",
              "      <td>24</td>\n",
              "    </tr>\n",
              "    <tr>\n",
              "      <th>24</th>\n",
              "      <td>7/6/2021 21:08:12</td>\n",
              "      <td>https://youtu.be/3O6eYd8pUM8s</td>\n",
              "      <td>Others</td>\n",
              "      <td>Romantic, Calm</td>\n",
              "      <td>Yup !!!</td>\n",
              "      <td>l25_</td>\n",
              "      <td>b25_e26_</td>\n",
              "      <td>26</td>\n",
              "    </tr>\n",
              "    <tr>\n",
              "      <th>25</th>\n",
              "      <td>7/6/2021 21:09:55</td>\n",
              "      <td>https://youtu.be/aPitOCcK1iU</td>\n",
              "      <td>Others</td>\n",
              "      <td>Sad, Romantic</td>\n",
              "      <td></td>\n",
              "      <td>l27_</td>\n",
              "      <td>b26_a36_</td>\n",
              "      <td></td>\n",
              "    </tr>\n",
              "    <tr>\n",
              "      <th>26</th>\n",
              "      <td>7/6/2021 21:40:23</td>\n",
              "      <td>https://youtu.be/lUPltG1hb3k</td>\n",
              "      <td>KK</td>\n",
              "      <td>Romantic, Calm</td>\n",
              "      <td>Yup !!!</td>\n",
              "      <td>a30_</td>\n",
              "      <td>b27_e28_</td>\n",
              "      <td>36</td>\n",
              "    </tr>\n",
              "    <tr>\n",
              "      <th>27</th>\n",
              "      <td>7/6/2021 21:41:15</td>\n",
              "      <td>https://youtu.be/DRdMWHiuBtA</td>\n",
              "      <td>Others</td>\n",
              "      <td>Romantic</td>\n",
              "      <td></td>\n",
              "      <td>l28_</td>\n",
              "      <td>b28_</td>\n",
              "      <td></td>\n",
              "    </tr>\n",
              "    <tr>\n",
              "      <th>28</th>\n",
              "      <td>7/6/2021 21:42:30</td>\n",
              "      <td>https://youtu.be/6Ss2Ga7A0TA</td>\n",
              "      <td>Shreya Ghoshal, Others</td>\n",
              "      <td>Romantic, Calm</td>\n",
              "      <td></td>\n",
              "      <td>l29_b34_</td>\n",
              "      <td>b29_e29_</td>\n",
              "      <td></td>\n",
              "    </tr>\n",
              "    <tr>\n",
              "      <th>29</th>\n",
              "      <td>7/6/2021 21:45:00</td>\n",
              "      <td>https://youtu.be/8M1WQCOG-Nw</td>\n",
              "      <td>Others</td>\n",
              "      <td>Romantic, Calm</td>\n",
              "      <td></td>\n",
              "      <td>l31_</td>\n",
              "      <td>b30_e32_</td>\n",
              "      <td></td>\n",
              "    </tr>\n",
              "    <tr>\n",
              "      <th>30</th>\n",
              "      <td>7/6/2021 21:47:15</td>\n",
              "      <td>https://youtu.be/Pcy1hfY6egc</td>\n",
              "      <td>KK</td>\n",
              "      <td>Romantic</td>\n",
              "      <td></td>\n",
              "      <td>a38_</td>\n",
              "      <td>b31_</td>\n",
              "      <td></td>\n",
              "    </tr>\n",
              "    <tr>\n",
              "      <th>31</th>\n",
              "      <td>7/6/2021 21:49:02</td>\n",
              "      <td>https://youtu.be/m6Y8xEfyXTs</td>\n",
              "      <td>Others</td>\n",
              "      <td>Romantic</td>\n",
              "      <td></td>\n",
              "      <td>l32_</td>\n",
              "      <td>b33_</td>\n",
              "      <td></td>\n",
              "    </tr>\n",
              "    <tr>\n",
              "      <th>32</th>\n",
              "      <td>7/6/2021 21:50:45</td>\n",
              "      <td>https://youtu.be/Qc7yMCLV4hY</td>\n",
              "      <td>Kumar Sanu, Others</td>\n",
              "      <td>Calm</td>\n",
              "      <td></td>\n",
              "      <td>l33_j35_</td>\n",
              "      <td>e33_</td>\n",
              "      <td></td>\n",
              "    </tr>\n",
              "    <tr>\n",
              "      <th>33</th>\n",
              "      <td>7/6/2021 21:54:04</td>\n",
              "      <td>https://youtu.be/AtnB0DbuFFU</td>\n",
              "      <td>Others</td>\n",
              "      <td>Romantic, Calm</td>\n",
              "      <td></td>\n",
              "      <td>l36_</td>\n",
              "      <td>b34_e34_</td>\n",
              "      <td></td>\n",
              "    </tr>\n",
              "    <tr>\n",
              "      <th>34</th>\n",
              "      <td>7/6/2021 21:59:26</td>\n",
              "      <td>https://youtu.be/qFhOGfQBMDY</td>\n",
              "      <td>Shreya Ghoshal</td>\n",
              "      <td>Romantic, Calm</td>\n",
              "      <td></td>\n",
              "      <td>b40_</td>\n",
              "      <td>b35_e36_</td>\n",
              "      <td></td>\n",
              "    </tr>\n",
              "    <tr>\n",
              "      <th>35</th>\n",
              "      <td>7/6/2021 22:01:47</td>\n",
              "      <td>https://youtu.be/Jtg2zyS_y_c</td>\n",
              "      <td>Kumar Sanu</td>\n",
              "      <td>Romantic</td>\n",
              "      <td></td>\n",
              "      <td></td>\n",
              "      <td>b37_</td>\n",
              "      <td></td>\n",
              "    </tr>\n",
              "    <tr>\n",
              "      <th>36</th>\n",
              "      <td>7/6/2021 22:03:49</td>\n",
              "      <td>https://youtu.be/BxOsU5cmnCU</td>\n",
              "      <td>Others</td>\n",
              "      <td>Sad, Calm</td>\n",
              "      <td>Yup !!!</td>\n",
              "      <td>l37_</td>\n",
              "      <td>e37_a38_</td>\n",
              "      <td>37</td>\n",
              "    </tr>\n",
              "    <tr>\n",
              "      <th>37</th>\n",
              "      <td>7/8/2021 17:54:01</td>\n",
              "      <td>https://www.youtube.com/watch?v=1KvCHSlK9vc</td>\n",
              "      <td>Alka Yagnik, Others</td>\n",
              "      <td>Romantic, Calm</td>\n",
              "      <td>Yup !!!</td>\n",
              "      <td>l42_k43_</td>\n",
              "      <td>b38_e38_</td>\n",
              "      <td>38</td>\n",
              "    </tr>\n",
              "    <tr>\n",
              "      <th>38</th>\n",
              "      <td>7/8/2021 18:02:52</td>\n",
              "      <td>https://www.youtube.com/watch?v=pv-Uio2sDBU</td>\n",
              "      <td>KK</td>\n",
              "      <td>Sad, Romantic, Calm</td>\n",
              "      <td>Yup !!!</td>\n",
              "      <td></td>\n",
              "      <td>b39_e39_a47_</td>\n",
              "      <td>45</td>\n",
              "    </tr>\n",
              "    <tr>\n",
              "      <th>39</th>\n",
              "      <td>7/8/2021 23:14:44</td>\n",
              "      <td>https://www.youtube.com/watch?v=9HVos5MX3XM</td>\n",
              "      <td>Sonu Nigam</td>\n",
              "      <td>Romantic, Calm</td>\n",
              "      <td></td>\n",
              "      <td></td>\n",
              "      <td>b40_e47_</td>\n",
              "      <td></td>\n",
              "    </tr>\n",
              "    <tr>\n",
              "      <th>40</th>\n",
              "      <td>7/9/2021 1:45:40</td>\n",
              "      <td>https://www.youtube.com/watch?v=lL0ULDPCqIA</td>\n",
              "      <td>Shreya Ghoshal</td>\n",
              "      <td>Romantic</td>\n",
              "      <td></td>\n",
              "      <td>b41_</td>\n",
              "      <td>b41_</td>\n",
              "      <td></td>\n",
              "    </tr>\n",
              "    <tr>\n",
              "      <th>41</th>\n",
              "      <td>7/9/2021 1:47:07</td>\n",
              "      <td>https://www.youtube.com/watch?v=yLA4ch5BqA8&amp;li...</td>\n",
              "      <td>Shreya Ghoshal</td>\n",
              "      <td>Romantic</td>\n",
              "      <td></td>\n",
              "      <td></td>\n",
              "      <td>b43_</td>\n",
              "      <td></td>\n",
              "    </tr>\n",
              "    <tr>\n",
              "      <th>42</th>\n",
              "      <td>7/9/2021 1:47:49</td>\n",
              "      <td>https://www.youtube.com/watch?v=RpuhD_xKadk&amp;li...</td>\n",
              "      <td>Others</td>\n",
              "      <td>Party</td>\n",
              "      <td></td>\n",
              "      <td>l45_</td>\n",
              "      <td></td>\n",
              "      <td></td>\n",
              "    </tr>\n",
              "    <tr>\n",
              "      <th>43</th>\n",
              "      <td>7/9/2021 1:48:44</td>\n",
              "      <td>https://www.youtube.com/watch?v=2MssEnEkuCw</td>\n",
              "      <td>Alka Yagnik</td>\n",
              "      <td>Romantic</td>\n",
              "      <td></td>\n",
              "      <td>k44_</td>\n",
              "      <td>b44_</td>\n",
              "      <td></td>\n",
              "    </tr>\n",
              "    <tr>\n",
              "      <th>44</th>\n",
              "      <td>7/9/2021 1:49:41</td>\n",
              "      <td>https://www.youtube.com/watch?v=3UuSmbx6Xsg</td>\n",
              "      <td>Alka Yagnik</td>\n",
              "      <td>Romantic</td>\n",
              "      <td></td>\n",
              "      <td></td>\n",
              "      <td>b46_</td>\n",
              "      <td></td>\n",
              "    </tr>\n",
              "    <tr>\n",
              "      <th>45</th>\n",
              "      <td>7/9/2021 1:50:50</td>\n",
              "      <td>https://www.youtube.com/watch?v=on09JDRyoE0</td>\n",
              "      <td>Others</td>\n",
              "      <td>Others</td>\n",
              "      <td>Yup !!!</td>\n",
              "      <td>l46_</td>\n",
              "      <td></td>\n",
              "      <td>46</td>\n",
              "    </tr>\n",
              "    <tr>\n",
              "      <th>46</th>\n",
              "      <td>7/9/2021 1:51:21</td>\n",
              "      <td>https://www.youtube.com/watch?v=I9cTsZKn8bY</td>\n",
              "      <td>Others</td>\n",
              "      <td>Romantic</td>\n",
              "      <td>Yup !!!</td>\n",
              "      <td>l48_</td>\n",
              "      <td>b48_</td>\n",
              "      <td>47</td>\n",
              "    </tr>\n",
              "    <tr>\n",
              "      <th>47</th>\n",
              "      <td>7/9/2021 8:53:18</td>\n",
              "      <td>https://youtu.be/KSGYVl4ZgRs</td>\n",
              "      <td>Arijit Singh</td>\n",
              "      <td>Sad, Calm</td>\n",
              "      <td>Yup !!!</td>\n",
              "      <td></td>\n",
              "      <td>e48_</td>\n",
              "      <td></td>\n",
              "    </tr>\n",
              "    <tr>\n",
              "      <th>48</th>\n",
              "      <td>7/10/2021 14:26:40</td>\n",
              "      <td>https://youtu.be/fXeIK4xbXgs</td>\n",
              "      <td>Others</td>\n",
              "      <td>Romantic, Calm</td>\n",
              "      <td></td>\n",
              "      <td>l49_</td>\n",
              "      <td>b49_e49_</td>\n",
              "      <td></td>\n",
              "    </tr>\n",
              "    <tr>\n",
              "      <th>49</th>\n",
              "      <td>7/12/2021 12:38:27</td>\n",
              "      <td>https://youtu.be/_qrxVjvVp4M</td>\n",
              "      <td>Others</td>\n",
              "      <td>Romantic, Calm</td>\n",
              "      <td></td>\n",
              "      <td></td>\n",
              "      <td></td>\n",
              "      <td></td>\n",
              "    </tr>\n",
              "  </tbody>\n",
              "</table>\n",
              "</div>"
            ],
            "text/plain": [
              "             Timestamp  ...  el\n",
              "0    7/3/2021 20:40:47  ...   1\n",
              "1    7/4/2021 12:05:48  ...   5\n",
              "2    7/4/2021 12:54:48  ...    \n",
              "3    7/4/2021 13:03:43  ...    \n",
              "4    7/4/2021 13:09:44  ...    \n",
              "5     7/5/2021 9:57:08  ...   6\n",
              "6    7/5/2021 10:46:18  ...  11\n",
              "7    7/5/2021 10:49:48  ...    \n",
              "8    7/5/2021 10:51:43  ...    \n",
              "9    7/5/2021 10:53:15  ...    \n",
              "10   7/5/2021 10:56:38  ...    \n",
              "11   7/5/2021 10:59:53  ...  12\n",
              "12   7/5/2021 11:07:35  ...  13\n",
              "13   7/5/2021 11:15:51  ...  14\n",
              "14   7/5/2021 11:18:19  ...  16\n",
              "15   7/5/2021 11:22:23  ...    \n",
              "16   7/5/2021 11:24:12  ...  18\n",
              "17   7/5/2021 11:25:32  ...    \n",
              "18    7/6/2021 0:42:21  ...  19\n",
              "19    7/6/2021 0:44:58  ...  20\n",
              "20    7/6/2021 1:14:54  ...  22\n",
              "21    7/6/2021 1:17:49  ...    \n",
              "22    7/6/2021 1:20:33  ...  23\n",
              "23    7/6/2021 9:42:16  ...  24\n",
              "24   7/6/2021 21:08:12  ...  26\n",
              "25   7/6/2021 21:09:55  ...    \n",
              "26   7/6/2021 21:40:23  ...  36\n",
              "27   7/6/2021 21:41:15  ...    \n",
              "28   7/6/2021 21:42:30  ...    \n",
              "29   7/6/2021 21:45:00  ...    \n",
              "30   7/6/2021 21:47:15  ...    \n",
              "31   7/6/2021 21:49:02  ...    \n",
              "32   7/6/2021 21:50:45  ...    \n",
              "33   7/6/2021 21:54:04  ...    \n",
              "34   7/6/2021 21:59:26  ...    \n",
              "35   7/6/2021 22:01:47  ...    \n",
              "36   7/6/2021 22:03:49  ...  37\n",
              "37   7/8/2021 17:54:01  ...  38\n",
              "38   7/8/2021 18:02:52  ...  45\n",
              "39   7/8/2021 23:14:44  ...    \n",
              "40    7/9/2021 1:45:40  ...    \n",
              "41    7/9/2021 1:47:07  ...    \n",
              "42    7/9/2021 1:47:49  ...    \n",
              "43    7/9/2021 1:48:44  ...    \n",
              "44    7/9/2021 1:49:41  ...    \n",
              "45    7/9/2021 1:50:50  ...  46\n",
              "46    7/9/2021 1:51:21  ...  47\n",
              "47    7/9/2021 8:53:18  ...    \n",
              "48  7/10/2021 14:26:40  ...    \n",
              "49  7/12/2021 12:38:27  ...    \n",
              "\n",
              "[50 rows x 8 columns]"
            ]
          },
          "metadata": {
            "tags": []
          },
          "execution_count": 13
        }
      ]
    },
    {
      "cell_type": "code",
      "metadata": {
        "colab": {
          "base_uri": "https://localhost:8080/"
        },
        "id": "rITxbH9YkJXZ",
        "outputId": "9da28f0c-7568-48d7-d6c5-3d9f7c250b43"
      },
      "source": [
        "# User Input\n",
        "\n",
        "choice = int (input(\"Press 0 to choose by category , 1 to choose by singer and 2 to get Lord Emraan's playlist \"))\n",
        "print(\"\\n\")\n",
        "\n",
        "if (choice==1) :\n",
        "  for x,y in singer_key:\n",
        "    print(y + \" : \" + x + \"\\n\")\n",
        "elif (choice==0) :\n",
        "  for x,y in category_key:\n",
        "    print(y + \" : \" + x + \"\\n\")\n",
        "\n",
        "if (choice==0 or choice==1) :\n",
        "  ref = str (input(\"Write reference ID \"))\n",
        "  print(\"\\n\")\n",
        "  ref_id = string.ascii_lowercase.index(ref)\n",
        "\n",
        "if (choice==1) :\n",
        "  v = singer_key[ref_id][0]\n",
        "  print(\"Songs by \"+v+\" on their way !\")\n",
        "elif (choice==0):\n",
        "  v = category_key[ref_id][0]\n",
        "  print(v+\" songs on their way !\")\n",
        "elif (choice ==2) :\n",
        "  v = \"Lord Emraan\"\n",
        "  print(\"Lord Emraan's playlist on its way !\")\n",
        "else :\n",
        "  print(\"Invalid Input\")"
      ],
      "execution_count": null,
      "outputs": [
        {
          "output_type": "stream",
          "text": [
            "Press 0 to choose by category , 1 to choose by singer and 2 to get Lord Emraan's playlist 0\n",
            "\n",
            "\n",
            "a : Sad\n",
            "\n",
            "b : Romantic\n",
            "\n",
            "c : Party\n",
            "\n",
            "d : Qawalli\n",
            "\n",
            "e : Calm\n",
            "\n",
            "f : Others\n",
            "\n",
            "Write reference ID e\n",
            "\n",
            "\n",
            "Calm songs on their way !\n"
          ],
          "name": "stdout"
        }
      ]
    },
    {
      "cell_type": "code",
      "metadata": {
        "colab": {
          "base_uri": "https://localhost:8080/"
        },
        "id": "gz6Yy91U2M_P",
        "outputId": "970cc2a5-114e-4edd-ddbb-aed113ae93c4"
      },
      "source": [
        "# Old Browsing Method\n",
        "\n",
        "def print_playlist(count_index,s,c,l) :\n",
        "  l = YouTube(l)\n",
        " # title_name = l.title\n",
        "  print(str (count_index) + \" : \" + l.title ) \n",
        "  print( \"--- || \" + s + \" --- \" + c + \" || ---\" )\n",
        "  print(\"\\n\")\n",
        "\n",
        "\n",
        "browse_ch = int (input(\"Wish to browse through your playlist ? Press 0 \"+\"\\n\"+\"Wish to browse through the entire collection ? Press 1 \\n\"))\n",
        "print(\"\\n\")\n",
        "\n",
        "song_no = 0\n",
        "count_index = 1\n",
        "num_entries = len(df.index)\n",
        "\n",
        "if (browse_ch == 0) :\n",
        "  while (song_no < num_entries):\n",
        "    try :\n",
        "      c = df.at[song_no, \"Category\"]\n",
        "      s = df.at[song_no, \"Sort by Singer\"]\n",
        "      l = df.at[song_no, \"YouTube Link\"]\n",
        "      e = df.at[song_no, \"Hey, Is it an Emraan Hashmi song ?\"]\n",
        "\n",
        "      if (choice==1):\n",
        "        if s.find(v)!=-1 :\n",
        "          print_playlist(count_index,s,c,l)\n",
        "          count_index += 1\n",
        "      elif (choice==0):\n",
        "        if c.find(v)!=-1 :\n",
        "          print_playlist(count_index,s,c,l)\n",
        "          count_index += 1\n",
        "      elif (choice==2) :\n",
        "        if e == \"Yup !!!\" :\n",
        "          print_playlist(count_index,s,c,l)\n",
        "          count_index += 1\n",
        "      \n",
        "    except Exception as expn : \n",
        "      print(expn)\n",
        "      \n",
        "    song_no += 1\n",
        "\n",
        "elif (browse_ch == 1) :\n",
        "  while (song_no < num_entries):\n",
        "    try :\n",
        "      c = df.at[song_no, \"Category\"]\n",
        "      s = df.at[song_no, \"Sort by Singer\"]\n",
        "      l = df.at[song_no, \"YouTube Link\"]\n",
        "      e = df.at[song_no, \"Hey, Is it an Emraan Hashmi song ?\"]\n",
        "      print_playlist(count_index,s,c,l)\n",
        "      count_index += 1\n",
        "    except Exception as expn : \n",
        "      print(expn)\n",
        "      \n",
        "    song_no += 1\n",
        "\n",
        "else :\n",
        "  print(\"Invalid Input\")\n",
        "\n",
        "if (browse_ch == 1 or browse_ch == 0) and (count_index == 1) :\n",
        "  print(\"No such Songs are available in our collection \")"
      ],
      "execution_count": null,
      "outputs": [
        {
          "output_type": "stream",
          "text": [
            "Wish to browse through your playlist ? Press 0 \n",
            "Wish to browse through the entire collection ? Press 1 \n",
            "0\n",
            "\n",
            "\n",
            "1 : Tose Naina Laage | Anwar (2007) | Siddharth Koirala, Nauheed Cyrusi | Mithoon Hits | Romantic Song\n",
            "--- || Others --- Calm || ---\n",
            "\n",
            "\n",
            "2 : Aadat (Juda Hoke Bhi) - Atif Aslam - Kunal Khemu - Kalyug [2005]\n",
            "--- || Atif Aslam --- Sad, Calm || ---\n",
            "\n",
            "\n",
            "3 : O Sanam The Killer Song HD] W E Subs   YouTube\n",
            "--- || KK, Shreya Ghoshal --- Romantic, Calm || ---\n",
            "\n",
            "\n",
            "4 : Woh Lamhe Woh Baatein | Audio | Atif Aslam | Emraan Hashmi | Zeher | Shamita Shetty | Udita Goswami\n",
            "--- || Atif Aslam --- Romantic, Calm || ---\n",
            "\n",
            "\n",
            "5 : Jeena Jeena (Audio Song) | Badlapur | Varun Dhawan, Yami Gautam & Nawazuddin Siddiqui\n",
            "--- || Atif Aslam --- Romantic, Calm || ---\n",
            "\n",
            "\n",
            "6 : O Re Piya | Full Song | Aaja Nachle | Madhuri Dixit | Rahat Fateh Ali Khan | Salim-Sulaiman, Jaideep\n",
            "--- || Others --- Calm || ---\n",
            "\n",
            "\n",
            "7 : मौला मेरे मौला | Maula Mere Maula | Anwar (2007) | Siddharth Koirala | Nauheed Cyrusi | Best Song\n",
            "--- || Others --- Calm || ---\n",
            "\n",
            "\n",
            "8 : Suna Suna | Full Audio | Krishna Cottage | Shreya Ghoshal | Anu Malik | Sohail Khan | Isha Koppikar\n",
            "--- || Shreya Ghoshal --- Romantic, Calm || ---\n",
            "\n",
            "\n",
            "9 : Toh Phir Aao (Lounge Version) | Awarapan | Hindi Film Song | Mustafa Zahid\n",
            "--- || Others --- Sad, Calm || ---\n",
            "\n",
            "\n",
            "10 : Jadugari Full Song | Dil toh baccha hai Ji |Ajay Devgn, Emraan Hashmi, Shruti Haasan\n",
            "--- || Others --- Romantic, Calm || ---\n",
            "\n",
            "\n",
            "11 : Tujhi Mein Full Video - Crook|Emraan Hashmi,Neha Sharma|KK|Pritam|Mohit Suri,Mukesh Bhatt\n",
            "--- || KK --- Sad, Calm || ---\n",
            "\n",
            "\n",
            "12 : Saibo Full Video - Shor In The City|Radhika Apte,Tusshar|Shreya Ghoshal,Tochi Raina\n",
            "--- || Shreya Ghoshal --- Romantic, Calm || ---\n",
            "\n",
            "\n",
            "13 : Sajni - Official Video Song | Boondh A Drop of Jal | Jal - The Band\n",
            "--- || Others --- Romantic, Calm || ---\n",
            "\n",
            "\n",
            "14 : Deewana kar Raha Hai Lyrical | Raaz 3 | Emraan Hashmi, Esha Gupta\n",
            "--- || Others --- Romantic, Calm || ---\n",
            "\n",
            "\n",
            "15 : Hey Ya! Video Song | Karthik Calling Karthik | Farhan Akhtar, Deepika Padukone\n",
            "--- || Others --- Romantic, Calm || ---\n",
            "\n",
            "\n",
            "16 : Deewana kar Raha Hai Lyrical | Raaz 3 | Emraan Hashmi, Esha Gupta\n",
            "--- || Others --- Romantic, Calm || ---\n",
            "\n",
            "\n",
            "17 : Zara Sa Lyric Video - Jannat|Emraan Hashmi, Sonal Chauhan|KK|Pritam|Sayeed Quadri\n",
            "--- || KK --- Romantic, Calm || ---\n",
            "\n",
            "\n",
            "18 : Rehnuma Full Video Song | ROCKY HANDSOME | John Abraham, Shruti Haasan | T-Series\n",
            "--- || Shreya Ghoshal, Others --- Romantic, Calm || ---\n",
            "\n",
            "\n",
            "19 : Kahin Toh Hogi Woh - Original - Full Song HD Video - Best on YouTube.\n",
            "--- || Others --- Romantic, Calm || ---\n",
            "\n",
            "\n",
            "20 : Abhi Zinda Hu To Jee Lene Do |Musically Retro\n",
            "--- || Kumar Sanu, Others --- Calm || ---\n",
            "\n",
            "\n",
            "21 : LYRICALLY: Dil Toh Bachcha Hai Ji lyrics | Ishqiya | naseeruddin shah & Vidya Balan | Gulzar | Rahat\n",
            "--- || Others --- Romantic, Calm || ---\n",
            "\n",
            "\n",
            "22 : Leja Leja Re Unplugged Full Audio | MTV Unplugged Season 6 | Shreya Ghoshal\n",
            "--- || Shreya Ghoshal --- Romantic, Calm || ---\n",
            "\n",
            "\n",
            "23 : Lyrical: Phir Mulaaqat | WHY CHEAT INDIA | Emraan Hashmi Shreya D | Jubin Nautiyal Kunaal Rangon\n",
            "--- || Others --- Sad, Calm || ---\n",
            "\n",
            "\n",
            "24 : Saari Raat Teri Yaad Full Video -  Footpath | Emraan Hashmi | Alka Yagnik & Udit Narayan\n",
            "--- || Alka Yagnik, Others --- Romantic, Calm || ---\n",
            "\n",
            "\n",
            "25 : Maine Dil Se Kaha\n",
            "--- || KK --- Sad, Romantic, Calm || ---\n",
            "\n",
            "\n",
            "26 : Falak Dekhun Full Video Song : Garam Masala | Akshay Kumar, John Abraham |\n",
            "--- || Sonu Nigam --- Romantic, Calm || ---\n",
            "\n",
            "\n",
            "27 : LO MAAN LIYA Full Video Song | Raaz Reboot | Arijit Singh|Emraan Hashmi,Kriti Kharbanda,Gaurav Arora\n",
            "--- || Arijit Singh --- Sad, Calm || ---\n",
            "\n",
            "\n",
            "28 : Tose Naina Laage | Anwar (2007) | Siddharth Koirala, Nauheed Cyrusi | Mithoon Hits | Romantic Song\n",
            "--- || Others --- Romantic, Calm || ---\n",
            "\n",
            "\n",
            "29 : EK MULAQAT FULL AUDIO | Sonali Cable | Ali Fazal & Rhea Chakraborty | Jubin | Amjad Nadeem | Sameer\n",
            "--- || Others --- Romantic, Calm || ---\n",
            "\n",
            "\n"
          ],
          "name": "stdout"
        }
      ]
    },
    {
      "cell_type": "code",
      "metadata": {
        "colab": {
          "base_uri": "https://localhost:8080/"
        },
        "id": "A1aPIxFshe4S",
        "outputId": "9a0198e6-857f-4735-cb02-db89950482bf"
      },
      "source": [
        "# Liked List Browsing\n",
        "\n",
        "def print_playlist(count_index,s,c,l) :\n",
        "  l = YouTube(l)\n",
        "  #time.sleep(2)\n",
        "  print(str (count_index) + \" : \" + l.title ) \n",
        "  print( \"--- || \" + s + \" --- \" + c + \" || ---\" )\n",
        "  print(\"\\n\")\n",
        "\n",
        "\n",
        "browse_ch = int (input(\"Wish to browse through your playlist ? Press 0 \"+\"\\n\"+\"Wish to browse through the entire collection ? Press 1 \\n\"))\n",
        "print(\"\\n\")\n",
        "\n",
        "song_no = 0\n",
        "count_index = 1\n",
        "num_entries = len(df.index)\n",
        "\n",
        "if (browse_ch == 0) :\n",
        "  if (choice==1) :\n",
        "    s_id = head_singer_list[ref_id]\n",
        "    criteria = \"sl\"\n",
        "  elif (choice==0) :\n",
        "    s_id = head_category_list[ref_id]\n",
        "    criteria = \"cl\"\n",
        "  else :\n",
        "    s_id = head_emraan_list\n",
        "    criteria = \"el\"\n",
        "\n",
        "  if s_id == -1 :\n",
        "    print(\"No such Songs are available in our collection \")\n",
        "  else :\n",
        "    while (True) :\n",
        "      l = df.at[s_id, \"YouTube Link\"]\n",
        "      c = df.at[s_id, \"Category\"]\n",
        "      s = df.at[s_id, \"Sort by Singer\"]\n",
        "      next_node = df.at[s_id, criteria]\n",
        "      \n",
        "      try :\n",
        "        print_playlist(count_index,s,c,l)\n",
        "        count_index += 1\n",
        "      except Exception as expn : \n",
        "        print(expn)\n",
        "        print(\"\\n\")\n",
        "\n",
        "      next_sing_iter = next_node.find(ref) + 1\n",
        "      next_loc = ''\n",
        "\n",
        "      if (next_sing_iter == 0) :\n",
        "        break\n",
        "      else :\n",
        "        while (next_node[next_sing_iter] != '_') :\n",
        "          next_loc += str ( next_node[next_sing_iter] )\n",
        "          next_sing_iter += 1\n",
        "        s_id  = int (next_loc)\n",
        "elif (browse_ch == 1) :\n",
        "  while (song_no < num_entries):\n",
        "    try :\n",
        "      c = df.at[song_no, \"Category\"]\n",
        "      s = df.at[song_no, \"Sort by Singer\"]\n",
        "      l = df.at[song_no, \"YouTube Link\"]\n",
        "      e = df.at[song_no, \"Hey, Is it an Emraan Hashmi song ?\"]\n",
        "      print_playlist(count_index,s,c,l)\n",
        "      count_index += 1\n",
        "    except Exception as expn : \n",
        "      print(expn)\n",
        "      \n",
        "    song_no += 1\n",
        "else :\n",
        "  print(\"Invalid Input\")\n",
        "\n",
        "if (browse_ch == 1 or browse_ch == 0) and (count_index == 1) :\n",
        "  print(\"No such Songs are available in our collection \")"
      ],
      "execution_count": null,
      "outputs": [
        {
          "output_type": "stream",
          "text": [
            "Wish to browse through your playlist ? Press 0 \n",
            "Wish to browse through the entire collection ? Press 1 \n",
            "0\n",
            "\n",
            "\n",
            "HTTP Error 429: Too Many Requests\n",
            "\n",
            "\n",
            "HTTP Error 429: Too Many Requests\n",
            "\n",
            "\n",
            "HTTP Error 429: Too Many Requests\n",
            "\n",
            "\n",
            "HTTP Error 429: Too Many Requests\n",
            "\n",
            "\n",
            "HTTP Error 429: Too Many Requests\n",
            "\n",
            "\n",
            "HTTP Error 429: Too Many Requests\n",
            "\n",
            "\n",
            "HTTP Error 429: Too Many Requests\n",
            "\n",
            "\n",
            "HTTP Error 429: Too Many Requests\n",
            "\n",
            "\n",
            "HTTP Error 429: Too Many Requests\n",
            "\n",
            "\n",
            "HTTP Error 429: Too Many Requests\n",
            "\n",
            "\n",
            "HTTP Error 429: Too Many Requests\n",
            "\n",
            "\n",
            "HTTP Error 429: Too Many Requests\n",
            "\n",
            "\n",
            "HTTP Error 429: Too Many Requests\n",
            "\n",
            "\n",
            "HTTP Error 429: Too Many Requests\n",
            "\n",
            "\n",
            "HTTP Error 429: Too Many Requests\n",
            "\n",
            "\n",
            "HTTP Error 429: Too Many Requests\n",
            "\n",
            "\n",
            "HTTP Error 429: Too Many Requests\n",
            "\n",
            "\n",
            "HTTP Error 429: Too Many Requests\n",
            "\n",
            "\n"
          ],
          "name": "stdout"
        }
      ]
    },
    {
      "cell_type": "code",
      "metadata": {
        "id": "HIcia2CCnTGw"
      },
      "source": [
        "# Old Approach\n",
        "\n",
        "song_no = 0\n",
        "count_index = 0\n",
        "num_entries = len(df.index)\n",
        "while (song_no < num_entries):\n",
        "  try :\n",
        "    c = df.at[song_no, \"Category\"]\n",
        "    s = df.at[song_no, \"Sort by Singer\"]\n",
        "    l = df.at[song_no, \"YouTube Link\"]\n",
        "    e = df.at[song_no, \"Hey, Is it an Emraan Hashmi song ?\"]\n",
        "\n",
        "    if (choice==1):\n",
        "      if s.find(v)!=-1 :\n",
        "        count_index += 1\n",
        "        a,b = vid_download(l)\n",
        "        vidtoaud(a,b,c,s)\n",
        "    elif (choice==0):\n",
        "      if c.find(v)!=-1 :\n",
        "        count_index += 1\n",
        "        a,b = vid_download(l)\n",
        "        vidtoaud(a,b,c,s)\n",
        "    elif (choice==2) :\n",
        "      if e == \"Yup !!!\" :\n",
        "        count_index += 1\n",
        "        a,b = vid_download(l)\n",
        "        vidtoaud(a,b,c,s)\n",
        "    \n",
        "  except Exception as expn : \n",
        "    print(expn)\n",
        "    print(\"\\n\")\n",
        "    \n",
        "  song_no += 1\n",
        "\n",
        "if (count_index == 0) :\n",
        "  print(\"No such Songs are available in our collection \")\n",
        "else :\n",
        "  print(\"Playlist Getting Ready !!!\")\n",
        "\n"
      ],
      "execution_count": null,
      "outputs": []
    },
    {
      "cell_type": "code",
      "metadata": {
        "colab": {
          "base_uri": "https://localhost:8080/"
        },
        "id": "m77Ifs-oHozP",
        "outputId": "30ec50c0-53e4-437c-a8dc-018e369b0e4e"
      },
      "source": [
        "# Linked List Approach\n",
        "\n",
        "num_entries = len(df.index)\n",
        "\n",
        "if (choice==1) :\n",
        "  s_id = head_singer_list[ref_id]\n",
        "  criteria = \"sl\"\n",
        "elif (choice==0) :\n",
        "  s_id = head_category_list[ref_id]\n",
        "  criteria = \"cl\"\n",
        "else :\n",
        "  s_id = head_emraan_list\n",
        "  criteria = \"el\"\n",
        "\n",
        "if s_id == -1 :\n",
        "  print(\"No such Songs are available in our collection \")\n",
        "else :\n",
        "  while (True) :\n",
        "    l = df.at[s_id, \"YouTube Link\"]\n",
        "    c = df.at[s_id, \"Category\"]\n",
        "    s = df.at[s_id, \"Sort by Singer\"]\n",
        "    next_node = df.at[s_id, criteria]\n",
        "    \n",
        "    try :\n",
        "      a,b = vid_download(l)\n",
        "      vidtoaud(a,b,c,s)\n",
        "    except Exception as expn : \n",
        "      print(expn)\n",
        "      print(\"\\n\")\n",
        "\n",
        "    next_sing_iter = next_node.find(ref) + 1\n",
        "    next_loc = ''\n",
        "\n",
        "    if (next_sing_iter == 0) :\n",
        "      break\n",
        "    else :\n",
        "      while (next_node[next_sing_iter] != '_') :\n",
        "        next_loc += str ( next_node[next_sing_iter] )\n",
        "        next_sing_iter += 1\n",
        "      s_id  = int (next_loc)"
      ],
      "execution_count": null,
      "outputs": [
        {
          "output_type": "stream",
          "text": [
            "Title:  Kya Full Video - Crook|Emraan Hashmi, Neha|Neeraj Shridhar|Pritam|Mohit Suri,Mukesh Bhatt\n",
            "Number of views:  7241106\n",
            "Length of video:  225\n",
            "Rating of video:  4.8869686\n",
            "Downloading...\n",
            "Download completed!!\n",
            "<moviepy.video.io.VideoFileClip.VideoFileClip object at 0x7f23fb233f50>\n",
            "[MoviePy] Writing audio in /content/Songs/Kya Full Video - CrookEmraan Hashmi NehaNeeraj ShridharPritamMohit SuriMukesh Bhatt.mp3\n"
          ],
          "name": "stdout"
        },
        {
          "output_type": "stream",
          "text": [
            "100%|██████████| 4965/4965 [00:06<00:00, 753.00it/s]"
          ],
          "name": "stderr"
        },
        {
          "output_type": "stream",
          "text": [
            "[MoviePy] Done.\n"
          ],
          "name": "stdout"
        },
        {
          "output_type": "stream",
          "text": [
            "\n"
          ],
          "name": "stderr"
        },
        {
          "output_type": "stream",
          "text": [
            "Title:  \"Beete Lamhe\" Lyrical Video Song  | The Train | K.K. | Mithoon | Emraan Hashmi, Geeta Basra\n",
            "Number of views:  6116770\n",
            "Length of video:  299\n",
            "Rating of video:  4.8862047\n",
            "Downloading...\n",
            "Download completed!!\n",
            "<moviepy.video.io.VideoFileClip.VideoFileClip object at 0x7f23fb25a410>\n",
            "[MoviePy] Writing audio in /content/Songs/Beete Lamhe Lyrical Video Song   The Train  KK  Mithoon  Emraan Hashmi Geeta Basra.mp3\n"
          ],
          "name": "stdout"
        },
        {
          "output_type": "stream",
          "text": [
            "100%|██████████| 6585/6585 [00:09<00:00, 688.03it/s]"
          ],
          "name": "stderr"
        },
        {
          "output_type": "stream",
          "text": [
            "[MoviePy] Done.\n"
          ],
          "name": "stdout"
        },
        {
          "output_type": "stream",
          "text": [
            "\n"
          ],
          "name": "stderr"
        },
        {
          "output_type": "stream",
          "text": [
            "Title:  O Sanam The Killer Song HD] W E Subs   YouTube\n",
            "Number of views:  2366173\n",
            "Length of video:  270\n",
            "Rating of video:  4.764235\n",
            "Downloading...\n",
            "Download completed!!\n",
            "<moviepy.video.io.VideoFileClip.VideoFileClip object at 0x7f23fb25a790>\n",
            "[MoviePy] Writing audio in /content/Songs/O Sanam The Killer Song HD] W E Subs   YouTube.mp3\n"
          ],
          "name": "stdout"
        },
        {
          "output_type": "stream",
          "text": [
            "100%|██████████| 5965/5965 [00:09<00:00, 659.59it/s]"
          ],
          "name": "stderr"
        },
        {
          "output_type": "stream",
          "text": [
            "[MoviePy] Done.\n"
          ],
          "name": "stdout"
        },
        {
          "output_type": "stream",
          "text": [
            "\n"
          ],
          "name": "stderr"
        },
        {
          "output_type": "stream",
          "text": [
            "Title:  Woh Lamhe Woh Baatein | Audio | Atif Aslam | Emraan Hashmi | Zeher | Shamita Shetty | Udita Goswami\n",
            "Number of views:  46160949\n",
            "Length of video:  320\n",
            "Rating of video:  4.8092284\n",
            "Downloading...\n",
            "Download completed!!\n",
            "<moviepy.video.io.VideoFileClip.VideoFileClip object at 0x7f23fb770450>\n",
            "[MoviePy] Writing audio in /content/Songs/Woh Lamhe Woh Baatein  Audio  Atif Aslam  Emraan Hashmi  Zeher  Shamita Shetty  Udita Goswami.mp3\n"
          ],
          "name": "stdout"
        },
        {
          "output_type": "stream",
          "text": [
            "100%|██████████| 7058/7058 [00:10<00:00, 642.82it/s]"
          ],
          "name": "stderr"
        },
        {
          "output_type": "stream",
          "text": [
            "[MoviePy] Done.\n"
          ],
          "name": "stdout"
        },
        {
          "output_type": "stream",
          "text": [
            "\n"
          ],
          "name": "stderr"
        },
        {
          "output_type": "stream",
          "text": [
            "Title:  Jeena Jeena (Audio Song) | Badlapur | Varun Dhawan, Yami Gautam & Nawazuddin Siddiqui\n",
            "Number of views:  60957193\n",
            "Length of video:  235\n",
            "Rating of video:  4.8290324\n",
            "Downloading...\n",
            "Download completed!!\n",
            "<moviepy.video.io.VideoFileClip.VideoFileClip object at 0x7f23fb313590>\n",
            "[MoviePy] Writing audio in /content/Songs/Jeena Jeena (Audio Song)  Badlapur  Varun Dhawan Yami Gautam & Nawazuddin Siddiqui.mp3\n"
          ],
          "name": "stdout"
        },
        {
          "output_type": "stream",
          "text": [
            "100%|██████████| 5186/5186 [00:07<00:00, 674.24it/s]"
          ],
          "name": "stderr"
        },
        {
          "output_type": "stream",
          "text": [
            "[MoviePy] Done.\n"
          ],
          "name": "stdout"
        },
        {
          "output_type": "stream",
          "text": [
            "\n"
          ],
          "name": "stderr"
        },
        {
          "output_type": "stream",
          "text": [
            "Title:  Suna Suna | Full Audio | Krishna Cottage | Shreya Ghoshal | Anu Malik | Sohail Khan | Isha Koppikar\n",
            "Number of views:  1838311\n",
            "Length of video:  450\n",
            "Rating of video:  4.7409749\n",
            "Downloading...\n",
            "Download completed!!\n",
            "<moviepy.video.io.VideoFileClip.VideoFileClip object at 0x7f23fb286f90>\n",
            "[MoviePy] Writing audio in /content/Songs/Suna Suna  Full Audio  Krishna Cottage  Shreya Ghoshal  Anu Malik  Sohail Khan  Isha Koppikar.mp3\n"
          ],
          "name": "stdout"
        },
        {
          "output_type": "stream",
          "text": [
            "100%|██████████| 9921/9921 [00:15<00:00, 629.29it/s]"
          ],
          "name": "stderr"
        },
        {
          "output_type": "stream",
          "text": [
            "[MoviePy] Done.\n"
          ],
          "name": "stdout"
        },
        {
          "output_type": "stream",
          "text": [
            "\n"
          ],
          "name": "stderr"
        },
        {
          "output_type": "stream",
          "text": [
            "Title:  Lyrical: Dil Mein Ho Tum| WHY CHEAT INDIA | Emraan H, Shreya D|Rochak K, Armaan M, Bappi L, Manoj M\n",
            "Number of views:  234769231\n",
            "Length of video:  346\n",
            "Rating of video:  4.7763433\n",
            "Downloading...\n",
            "Download completed!!\n",
            "<moviepy.video.io.VideoFileClip.VideoFileClip object at 0x7f23fad49050>\n",
            "[MoviePy] Writing audio in /content/Songs/Lyrical Dil Mein Ho Tum WHY CHEAT INDIA  Emraan H Shreya DRochak K Armaan M Bappi L Manoj M.mp3\n"
          ],
          "name": "stdout"
        },
        {
          "output_type": "stream",
          "text": [
            "100%|██████████| 7625/7625 [00:11<00:00, 661.98it/s]"
          ],
          "name": "stderr"
        },
        {
          "output_type": "stream",
          "text": [
            "[MoviePy] Done.\n"
          ],
          "name": "stdout"
        },
        {
          "output_type": "stream",
          "text": [
            "\n"
          ],
          "name": "stderr"
        },
        {
          "output_type": "stream",
          "text": [
            "Title:  Jadugari Full Song | Dil toh baccha hai Ji |Ajay Devgn, Emraan Hashmi, Shruti Haasan\n",
            "Number of views:  1053023\n",
            "Length of video:  177\n",
            "Rating of video:  4.8682041\n",
            "Downloading...\n",
            "Download completed!!\n",
            "<moviepy.video.io.VideoFileClip.VideoFileClip object at 0x7f23fb29ed90>\n",
            "[MoviePy] Writing audio in /content/Songs/Jadugari Full Song  Dil toh baccha hai Ji Ajay Devgn Emraan Hashmi Shruti Haasan.mp3\n"
          ],
          "name": "stdout"
        },
        {
          "output_type": "stream",
          "text": [
            "100%|██████████| 3913/3913 [00:04<00:00, 892.98it/s]\n"
          ],
          "name": "stderr"
        },
        {
          "output_type": "stream",
          "text": [
            "[MoviePy] Done.\n",
            "Title:  Saibo Full Video - Shor In The City|Radhika Apte,Tusshar|Shreya Ghoshal,Tochi Raina\n",
            "Number of views:  40290330\n",
            "Length of video:  137\n",
            "Rating of video:  4.9040375\n",
            "Downloading...\n",
            "Download completed!!\n",
            "<moviepy.video.io.VideoFileClip.VideoFileClip object at 0x7f23fad4e050>\n",
            "[MoviePy] Writing audio in /content/Songs/Saibo Full Video - Shor In The CityRadhika ApteTussharShreya GhoshalTochi Raina.mp3\n"
          ],
          "name": "stdout"
        },
        {
          "output_type": "stream",
          "text": [
            "100%|██████████| 3018/3018 [00:04<00:00, 684.12it/s]"
          ],
          "name": "stderr"
        },
        {
          "output_type": "stream",
          "text": [
            "[MoviePy] Done.\n"
          ],
          "name": "stdout"
        },
        {
          "output_type": "stream",
          "text": [
            "\n"
          ],
          "name": "stderr"
        },
        {
          "output_type": "stream",
          "text": [
            "Title:  Sajni - Official Video Song | Boondh A Drop of Jal | Jal - The Band\n",
            "Number of views:  12703253\n",
            "Length of video:  320\n",
            "Rating of video:  4.9273725\n",
            "Downloading...\n",
            "Download completed!!\n",
            "<moviepy.video.io.VideoFileClip.VideoFileClip object at 0x7f23fb0cc390>\n",
            "[MoviePy] Writing audio in /content/Songs/Sajni - Official Video Song  Boondh A Drop of Jal  Jal - The Band.mp3\n"
          ],
          "name": "stdout"
        },
        {
          "output_type": "stream",
          "text": [
            "100%|██████████| 7050/7050 [00:06<00:00, 1021.29it/s]"
          ],
          "name": "stderr"
        },
        {
          "output_type": "stream",
          "text": [
            "[MoviePy] Done.\n"
          ],
          "name": "stdout"
        },
        {
          "output_type": "stream",
          "text": [
            "\n"
          ],
          "name": "stderr"
        },
        {
          "output_type": "stream",
          "text": [
            "Title:  Deewana kar Raha Hai Lyrical | Raaz 3 | Emraan Hashmi, Esha Gupta\n",
            "Number of views:  27012909\n",
            "Length of video:  359\n",
            "Rating of video:  4.7469335\n",
            "Downloading...\n",
            "Download completed!!\n",
            "<moviepy.video.io.VideoFileClip.VideoFileClip object at 0x7f23fad4ebd0>\n",
            "[MoviePy] Writing audio in /content/Songs/Deewana kar Raha Hai Lyrical  Raaz 3  Emraan Hashmi Esha Gupta.mp3\n"
          ],
          "name": "stdout"
        },
        {
          "output_type": "stream",
          "text": [
            "100%|██████████| 7923/7923 [00:12<00:00, 659.35it/s]\n"
          ],
          "name": "stderr"
        },
        {
          "output_type": "stream",
          "text": [
            "[MoviePy] Done.\n",
            "Title:  Pritam - Mere Bina Best Audio Song|Crook|Emraan Hashmi|Neha Sharma|Nikhil D'Souza\n",
            "Number of views:  528600\n",
            "Length of video:  291\n",
            "Rating of video:  4.9242916\n",
            "Downloading...\n",
            "Download completed!!\n",
            "<moviepy.video.io.VideoFileClip.VideoFileClip object at 0x7f23fb0cd290>\n",
            "[MoviePy] Writing audio in /content/Songs/Pritam - Mere Bina Best Audio SongCrookEmraan HashmiNeha SharmaNikhil DSouza.mp3\n"
          ],
          "name": "stdout"
        },
        {
          "output_type": "stream",
          "text": [
            "100%|██████████| 6421/6421 [00:09<00:00, 657.49it/s]"
          ],
          "name": "stderr"
        },
        {
          "output_type": "stream",
          "text": [
            "[MoviePy] Done.\n"
          ],
          "name": "stdout"
        },
        {
          "output_type": "stream",
          "text": [
            "\n"
          ],
          "name": "stderr"
        },
        {
          "output_type": "stream",
          "text": [
            "Title:  Hey Ya! Video Song | Karthik Calling Karthik | Farhan Akhtar, Deepika Padukone\n",
            "Number of views:  10909962\n",
            "Length of video:  213\n",
            "Rating of video:  4.8986015\n",
            "Downloading...\n",
            "Download completed!!\n",
            "<moviepy.video.io.VideoFileClip.VideoFileClip object at 0x7f23fb282190>\n",
            "[MoviePy] Writing audio in /content/Songs/Hey Ya! Video Song  Karthik Calling Karthik  Farhan Akhtar Deepika Padukone.mp3\n"
          ],
          "name": "stdout"
        },
        {
          "output_type": "stream",
          "text": [
            "100%|██████████| 4689/4689 [00:06<00:00, 777.89it/s]"
          ],
          "name": "stderr"
        },
        {
          "output_type": "stream",
          "text": [
            "[MoviePy] Done.\n"
          ],
          "name": "stdout"
        },
        {
          "output_type": "stream",
          "text": [
            "\n"
          ],
          "name": "stderr"
        },
        {
          "output_type": "stream",
          "text": [
            "Title:  Hasi Ban Gaye Full Lyrics (Male Version) |  Hamari Adhuri Kahani | Ami Mishra | Emraan | Vidya B\n",
            "Number of views:  37316287\n",
            "Length of video:  232\n",
            "Rating of video:  4.789259\n",
            "Downloading...\n",
            "Download completed!!\n",
            "<moviepy.video.io.VideoFileClip.VideoFileClip object at 0x7f24061f5490>\n",
            "[MoviePy] Writing audio in /content/Songs/Hasi Ban Gaye Full Lyrics (Male Version)   Hamari Adhuri Kahani  Ami Mishra  Emraan  Vidya B.mp3\n"
          ],
          "name": "stdout"
        },
        {
          "output_type": "stream",
          "text": [
            "100%|██████████| 5116/5116 [00:07<00:00, 685.26it/s]"
          ],
          "name": "stderr"
        },
        {
          "output_type": "stream",
          "text": [
            "[MoviePy] Done.\n"
          ],
          "name": "stdout"
        },
        {
          "output_type": "stream",
          "text": [
            "\n"
          ],
          "name": "stderr"
        },
        {
          "output_type": "stream",
          "text": [
            "Title:  Deewana kar Raha Hai Lyrical | Raaz 3 | Emraan Hashmi, Esha Gupta\n",
            "Number of views:  27013254\n",
            "Length of video:  359\n",
            "Rating of video:  4.7469358\n",
            "Downloading...\n",
            "Download completed!!\n",
            "<moviepy.video.io.VideoFileClip.VideoFileClip object at 0x7f23fad3e410>\n",
            "[MoviePy] Writing audio in /content/Songs/Deewana kar Raha Hai Lyrical  Raaz 3  Emraan Hashmi Esha Gupta.mp3\n"
          ],
          "name": "stdout"
        },
        {
          "output_type": "stream",
          "text": [
            "100%|██████████| 7923/7923 [00:12<00:00, 654.12it/s]"
          ],
          "name": "stderr"
        },
        {
          "output_type": "stream",
          "text": [
            "[MoviePy] Done.\n"
          ],
          "name": "stdout"
        },
        {
          "output_type": "stream",
          "text": [
            "\n"
          ],
          "name": "stderr"
        },
        {
          "output_type": "stream",
          "text": [
            "Title:  Kabhi Na Kabhi [Full Song] | Shaapit | Aditya Narayan\n",
            "Number of views:  19627888\n",
            "Length of video:  363\n",
            "Rating of video:  4.8526163\n",
            "Downloading...\n",
            "Download completed!!\n",
            "<moviepy.video.io.VideoFileClip.VideoFileClip object at 0x7f23fad37350>\n",
            "[MoviePy] Writing audio in /content/Songs/Kabhi Na Kabhi [Full Song]  Shaapit  Aditya Narayan.mp3\n"
          ],
          "name": "stdout"
        },
        {
          "output_type": "stream",
          "text": [
            "100%|██████████| 8010/8010 [00:08<00:00, 942.30it/s]"
          ],
          "name": "stderr"
        },
        {
          "output_type": "stream",
          "text": [
            "[MoviePy] Done.\n"
          ],
          "name": "stdout"
        },
        {
          "output_type": "stream",
          "text": [
            "\n"
          ],
          "name": "stderr"
        },
        {
          "output_type": "stream",
          "text": [
            "Title:  Zara Sa Lyric Video - Jannat|Emraan Hashmi, Sonal Chauhan|KK|Pritam|Sayeed Quadri\n",
            "Number of views:  52888652\n",
            "Length of video:  228\n",
            "Rating of video:  4.8301811\n",
            "Downloading...\n",
            "Download completed!!\n",
            "<moviepy.video.io.VideoFileClip.VideoFileClip object at 0x7f23fad2a910>\n",
            "[MoviePy] Writing audio in /content/Songs/Zara Sa Lyric Video - JannatEmraan Hashmi Sonal ChauhanKKPritamSayeed Quadri.mp3\n"
          ],
          "name": "stdout"
        },
        {
          "output_type": "stream",
          "text": [
            "100%|██████████| 5020/5020 [00:07<00:00, 688.33it/s]"
          ],
          "name": "stderr"
        },
        {
          "output_type": "stream",
          "text": [
            "[MoviePy] Done.\n"
          ],
          "name": "stdout"
        },
        {
          "output_type": "stream",
          "text": [
            "\n"
          ],
          "name": "stderr"
        },
        {
          "output_type": "stream",
          "text": [
            "Title:  Mann Mera | Full Song With Lyrics | Table No.21\n",
            "Number of views:  7834811\n",
            "Length of video:  198\n",
            "Rating of video:  4.8630595\n",
            "Downloading...\n",
            "Download completed!!\n",
            "<moviepy.video.io.VideoFileClip.VideoFileClip object at 0x7f23fb3f4ed0>\n",
            "[MoviePy] Writing audio in /content/Songs/Mann Mera  Full Song With Lyrics  Table No21.mp3\n"
          ],
          "name": "stdout"
        },
        {
          "output_type": "stream",
          "text": [
            "100%|██████████| 4359/4359 [00:06<00:00, 666.47it/s]"
          ],
          "name": "stderr"
        },
        {
          "output_type": "stream",
          "text": [
            "[MoviePy] Done.\n"
          ],
          "name": "stdout"
        },
        {
          "output_type": "stream",
          "text": [
            "\n"
          ],
          "name": "stderr"
        },
        {
          "output_type": "stream",
          "text": [
            "Title:  Rehnuma Full Video Song | ROCKY HANDSOME | John Abraham, Shruti Haasan | T-Series\n",
            "Number of views:  30483696\n",
            "Length of video:  216\n",
            "Rating of video:  4.8798656\n",
            "Downloading...\n",
            "Download completed!!\n",
            "<moviepy.video.io.VideoFileClip.VideoFileClip object at 0x7f23fb0c0fd0>\n",
            "[MoviePy] Writing audio in /content/Songs/Rehnuma Full Video Song  ROCKY HANDSOME  John Abraham Shruti Haasan  T-Series.mp3\n"
          ],
          "name": "stdout"
        },
        {
          "output_type": "stream",
          "text": [
            "100%|██████████| 4774/4774 [00:07<00:00, 650.26it/s]"
          ],
          "name": "stderr"
        },
        {
          "output_type": "stream",
          "text": [
            "[MoviePy] Done.\n"
          ],
          "name": "stdout"
        },
        {
          "output_type": "stream",
          "text": [
            "\n"
          ],
          "name": "stderr"
        },
        {
          "output_type": "stream",
          "text": [
            "Title:  Kahin Toh Hogi Woh - Original - Full Song HD Video - Best on YouTube.\n",
            "Number of views:  24141763\n",
            "Length of video:  302\n",
            "Rating of video:  4.8762431\n",
            "Downloading...\n",
            "Download completed!!\n",
            "<moviepy.video.io.VideoFileClip.VideoFileClip object at 0x7f23fb233a50>\n",
            "[MoviePy] Writing audio in /content/Songs/Kahin Toh Hogi Woh - Original - Full Song HD Video - Best on YouTube.mp3\n"
          ],
          "name": "stdout"
        },
        {
          "output_type": "stream",
          "text": [
            "100%|██████████| 6650/6650 [00:09<00:00, 672.58it/s]"
          ],
          "name": "stderr"
        },
        {
          "output_type": "stream",
          "text": [
            "[MoviePy] Done.\n"
          ],
          "name": "stdout"
        },
        {
          "output_type": "stream",
          "text": [
            "\n"
          ],
          "name": "stderr"
        },
        {
          "output_type": "stream",
          "text": [
            "Title:  Tum Ho Mera Pyar Haunted Full Song Lyrical Video | KK, Suzanne D'Mello\n",
            "Number of views:  20071762\n",
            "Length of video:  315\n",
            "Rating of video:  4.8617578\n",
            "Downloading...\n",
            "Download completed!!\n",
            "<moviepy.video.io.VideoFileClip.VideoFileClip object at 0x7f23fb0b3590>\n",
            "[MoviePy] Writing audio in /content/Songs/Tum Ho Mera Pyar Haunted Full Song Lyrical Video  KK Suzanne DMello.mp3\n"
          ],
          "name": "stdout"
        },
        {
          "output_type": "stream",
          "text": [
            "100%|██████████| 6947/6947 [00:10<00:00, 659.61it/s]"
          ],
          "name": "stderr"
        },
        {
          "output_type": "stream",
          "text": [
            "[MoviePy] Done.\n"
          ],
          "name": "stdout"
        },
        {
          "output_type": "stream",
          "text": [
            "\n"
          ],
          "name": "stderr"
        },
        {
          "output_type": "stream",
          "text": [
            "Title:  Main Yahaan Hoon | Full Song | Veer-Zaara | Shah Rukh Khan, Preity Zinta | Madan Mohan, Udit Narayan\n",
            "Number of views:  146959511\n",
            "Length of video:  296\n",
            "Rating of video:  4.7997904\n",
            "Downloading...\n",
            "Download completed!!\n",
            "<moviepy.video.io.VideoFileClip.VideoFileClip object at 0x7f23fad260d0>\n",
            "[MoviePy] Writing audio in /content/Songs/Main Yahaan Hoon  Full Song  Veer-Zaara  Shah Rukh Khan Preity Zinta  Madan Mohan Udit Narayan.mp3\n"
          ],
          "name": "stdout"
        },
        {
          "output_type": "stream",
          "text": [
            "100%|██████████| 6538/6538 [00:10<00:00, 652.58it/s]"
          ],
          "name": "stderr"
        },
        {
          "output_type": "stream",
          "text": [
            "[MoviePy] Done.\n"
          ],
          "name": "stdout"
        },
        {
          "output_type": "stream",
          "text": [
            "\n"
          ],
          "name": "stderr"
        },
        {
          "output_type": "stream",
          "text": [
            "Title:  LYRICALLY: Dil Toh Bachcha Hai Ji lyrics | Ishqiya | naseeruddin shah & Vidya Balan | Gulzar | Rahat\n",
            "Number of views:  4011298\n",
            "Length of video:  314\n",
            "Rating of video:  4.8764138\n",
            "Downloading...\n",
            "Download completed!!\n",
            "<moviepy.video.io.VideoFileClip.VideoFileClip object at 0x7f23fad39f50>\n",
            "[MoviePy] Writing audio in /content/Songs/LYRICALLY Dil Toh Bachcha Hai Ji lyrics  Ishqiya  naseeruddin shah & Vidya Balan  Gulzar  Rahat.mp3\n"
          ],
          "name": "stdout"
        },
        {
          "output_type": "stream",
          "text": [
            "100%|██████████| 6925/6925 [00:10<00:00, 647.96it/s]"
          ],
          "name": "stderr"
        },
        {
          "output_type": "stream",
          "text": [
            "[MoviePy] Done.\n"
          ],
          "name": "stdout"
        },
        {
          "output_type": "stream",
          "text": [
            "\n"
          ],
          "name": "stderr"
        },
        {
          "output_type": "stream",
          "text": [
            "Title:  Leja Leja Re Unplugged Full Audio | MTV Unplugged Season 6 | Shreya Ghoshal\n",
            "Number of views:  1080717\n",
            "Length of video:  358\n",
            "Rating of video:  4.8572235\n",
            "Downloading...\n",
            "Download completed!!\n",
            "<moviepy.video.io.VideoFileClip.VideoFileClip object at 0x7f23fb2969d0>\n",
            "[MoviePy] Writing audio in /content/Songs/Leja Leja Re Unplugged Full Audio  MTV Unplugged Season 6  Shreya Ghoshal.mp3\n"
          ],
          "name": "stdout"
        },
        {
          "output_type": "stream",
          "text": [
            "100%|██████████| 7892/7892 [00:12<00:00, 634.00it/s]"
          ],
          "name": "stderr"
        },
        {
          "output_type": "stream",
          "text": [
            "[MoviePy] Done.\n"
          ],
          "name": "stdout"
        },
        {
          "output_type": "stream",
          "text": [
            "\n"
          ],
          "name": "stderr"
        },
        {
          "output_type": "stream",
          "text": [
            "Title:  Ae Kash Ke Hum Full Video - Kabhi Haan Kabhi Naa|Shah Rukh Khan,Suchitra|Kumar Sanu\n",
            "Number of views:  52128346\n",
            "Length of video:  295\n",
            "Rating of video:  4.7739158\n",
            "Downloading...\n",
            "Download completed!!\n",
            "<moviepy.video.io.VideoFileClip.VideoFileClip object at 0x7f23fb09cf50>\n",
            "[MoviePy] Writing audio in /content/Songs/Ae Kash Ke Hum Full Video - Kabhi Haan Kabhi NaaShah Rukh KhanSuchitraKumar Sanu.mp3\n"
          ],
          "name": "stdout"
        },
        {
          "output_type": "stream",
          "text": [
            "100%|██████████| 6510/6510 [00:10<00:00, 633.52it/s]"
          ],
          "name": "stderr"
        },
        {
          "output_type": "stream",
          "text": [
            "[MoviePy] Done.\n"
          ],
          "name": "stdout"
        },
        {
          "output_type": "stream",
          "text": [
            "\n"
          ],
          "name": "stderr"
        },
        {
          "output_type": "stream",
          "text": [
            "Title:  Saari Raat Teri Yaad Full Video -  Footpath | Emraan Hashmi | Alka Yagnik & Udit Narayan\n",
            "Number of views:  66515328\n",
            "Length of video:  252\n",
            "Rating of video:  4.6662436\n",
            "Downloading...\n",
            "Download completed!!\n",
            "<moviepy.video.io.VideoFileClip.VideoFileClip object at 0x7f23fb233c50>\n",
            "[MoviePy] Writing audio in /content/Songs/Saari Raat Teri Yaad Full Video -  Footpath  Emraan Hashmi  Alka Yagnik & Udit Narayan.mp3\n"
          ],
          "name": "stdout"
        },
        {
          "output_type": "stream",
          "text": [
            "100%|██████████| 5561/5561 [00:07<00:00, 704.92it/s]"
          ],
          "name": "stderr"
        },
        {
          "output_type": "stream",
          "text": [
            "[MoviePy] Done.\n"
          ],
          "name": "stdout"
        },
        {
          "output_type": "stream",
          "text": [
            "\n"
          ],
          "name": "stderr"
        },
        {
          "output_type": "stream",
          "text": [
            "Title:  Maine Dil Se Kaha\n",
            "Number of views:  5287219\n",
            "Length of video:  313\n",
            "Rating of video:  4.5911403\n",
            "Downloading...\n",
            "Download completed!!\n",
            "<moviepy.video.io.VideoFileClip.VideoFileClip object at 0x7f23fad320d0>\n",
            "[MoviePy] Writing audio in /content/Songs/Maine Dil Se Kaha.mp3\n"
          ],
          "name": "stdout"
        },
        {
          "output_type": "stream",
          "text": [
            "100%|██████████| 6899/6899 [00:10<00:00, 639.64it/s]"
          ],
          "name": "stderr"
        },
        {
          "output_type": "stream",
          "text": [
            "[MoviePy] Done.\n"
          ],
          "name": "stdout"
        },
        {
          "output_type": "stream",
          "text": [
            "\n"
          ],
          "name": "stderr"
        },
        {
          "output_type": "stream",
          "text": [
            "Title:  Falak Dekhun Full Video Song : Garam Masala | Akshay Kumar, John Abraham |\n",
            "Number of views:  10321058\n",
            "Length of video:  239\n",
            "Rating of video:  4.8021874\n",
            "Downloading...\n",
            "Download completed!!\n",
            "<moviepy.video.io.VideoFileClip.VideoFileClip object at 0x7f23fb09c910>\n",
            "[MoviePy] Writing audio in /content/Songs/Falak Dekhun Full Video Song  Garam Masala  Akshay Kumar John Abraham .mp3\n"
          ],
          "name": "stdout"
        },
        {
          "output_type": "stream",
          "text": [
            "100%|██████████| 5260/5260 [00:07<00:00, 708.38it/s]"
          ],
          "name": "stderr"
        },
        {
          "output_type": "stream",
          "text": [
            "[MoviePy] Done.\n"
          ],
          "name": "stdout"
        },
        {
          "output_type": "stream",
          "text": [
            "\n"
          ],
          "name": "stderr"
        },
        {
          "output_type": "stream",
          "text": [
            "Title:  Lyrical: Mere Dholna | Bhool Bhulaiyaa | Vidya Balan | Shreya Ghoshal, M.G. Sreekumar |  Pritam\n",
            "Number of views:  5867247\n",
            "Length of video:  423\n",
            "Rating of video:  4.8487496\n",
            "Downloading...\n",
            "Download completed!!\n",
            "<moviepy.video.io.VideoFileClip.VideoFileClip object at 0x7f23fb222190>\n",
            "[MoviePy] Writing audio in /content/Songs/Lyrical Mere Dholna  Bhool Bhulaiyaa  Vidya Balan  Shreya Ghoshal MG Sreekumar   Pritam.mp3\n"
          ],
          "name": "stdout"
        },
        {
          "output_type": "stream",
          "text": [
            "100%|██████████| 9319/9319 [00:13<00:00, 668.45it/s]"
          ],
          "name": "stderr"
        },
        {
          "output_type": "stream",
          "text": [
            "[MoviePy] Done.\n"
          ],
          "name": "stdout"
        },
        {
          "output_type": "stream",
          "text": [
            "\n"
          ],
          "name": "stderr"
        },
        {
          "output_type": "stream",
          "text": [
            "Title:  Saamne Hai Savera Full Song (Audio) Bullett Raja | Saif Ali Khan, Sonakshi Sinha\n",
            "Number of views:  600579\n",
            "Length of video:  276\n",
            "Rating of video:  4.8054557\n",
            "Downloading...\n",
            "Download completed!!\n",
            "<moviepy.video.io.VideoFileClip.VideoFileClip object at 0x7f23fb0bcf50>\n",
            "[MoviePy] Writing audio in /content/Songs/Saamne Hai Savera Full Song (Audio) Bullett Raja  Saif Ali Khan Sonakshi Sinha.mp3\n"
          ],
          "name": "stdout"
        },
        {
          "output_type": "stream",
          "text": [
            "100%|██████████| 6081/6081 [00:09<00:00, 664.63it/s]"
          ],
          "name": "stderr"
        },
        {
          "output_type": "stream",
          "text": [
            "[MoviePy] Done.\n"
          ],
          "name": "stdout"
        },
        {
          "output_type": "stream",
          "text": [
            "\n"
          ],
          "name": "stderr"
        },
        {
          "output_type": "stream",
          "text": [
            "2MssEnEkuCw is a private video\n",
            "\n",
            "\n",
            "Title:  Mhare Hiwada Mein - Salman, Sonali, Saif, Karishma, Tabu, Mohnish - Hum Saath Saath Hain\n",
            "Number of views:  80055659\n",
            "Length of video:  371\n",
            "Rating of video:  4.3465767\n",
            "Downloading...\n",
            "Download completed!!\n",
            "<moviepy.video.io.VideoFileClip.VideoFileClip object at 0x7f23fb2bfcd0>\n",
            "[MoviePy] Writing audio in /content/Songs/Mhare Hiwada Mein - Salman Sonali Saif Karishma Tabu Mohnish - Hum Saath Saath Hain.mp3\n"
          ],
          "name": "stdout"
        },
        {
          "output_type": "stream",
          "text": [
            "100%|██████████| 8189/8189 [00:08<00:00, 939.17it/s]"
          ],
          "name": "stderr"
        },
        {
          "output_type": "stream",
          "text": [
            "[MoviePy] Done.\n"
          ],
          "name": "stdout"
        },
        {
          "output_type": "stream",
          "text": [
            "\n"
          ],
          "name": "stderr"
        },
        {
          "output_type": "stream",
          "text": [
            "Title:  Deewana kar Raha Hai Raaz 3 Video Song | Emraan Hashmi, Esha Gupta\n",
            "Number of views:  64166718\n",
            "Length of video:  188\n",
            "Rating of video:  4.8061385\n",
            "Downloading...\n",
            "Download completed!!\n",
            "<moviepy.video.io.VideoFileClip.VideoFileClip object at 0x7f23fad2f810>\n",
            "[MoviePy] Writing audio in /content/Songs/Deewana kar Raha Hai Raaz 3 Video Song  Emraan Hashmi Esha Gupta.mp3\n"
          ],
          "name": "stdout"
        },
        {
          "output_type": "stream",
          "text": [
            "100%|██████████| 4145/4145 [00:04<00:00, 991.01it/s]"
          ],
          "name": "stderr"
        },
        {
          "output_type": "stream",
          "text": [
            "[MoviePy] Done.\n"
          ],
          "name": "stdout"
        },
        {
          "output_type": "stream",
          "text": [
            "\n"
          ],
          "name": "stderr"
        },
        {
          "output_type": "stream",
          "text": [
            "Title:  Tose Naina Laage | Anwar (2007) | Siddharth Koirala, Nauheed Cyrusi | Mithoon Hits | Romantic Song\n",
            "Number of views:  2621766\n",
            "Length of video:  334\n",
            "Rating of video:  4.8588352\n",
            "Downloading...\n",
            "Download completed!!\n",
            "<moviepy.video.io.VideoFileClip.VideoFileClip object at 0x7f23fb2502d0>\n",
            "[MoviePy] Writing audio in /content/Songs/Tose Naina Laage  Anwar (2007)  Siddharth Koirala Nauheed Cyrusi  Mithoon Hits  Romantic Song.mp3\n"
          ],
          "name": "stdout"
        },
        {
          "output_type": "stream",
          "text": [
            "100%|██████████| 7367/7367 [00:10<00:00, 686.82it/s]"
          ],
          "name": "stderr"
        },
        {
          "output_type": "stream",
          "text": [
            "[MoviePy] Done.\n"
          ],
          "name": "stdout"
        },
        {
          "output_type": "stream",
          "text": [
            "\n"
          ],
          "name": "stderr"
        },
        {
          "output_type": "stream",
          "text": [
            "Title:  EK MULAQAT FULL AUDIO | Sonali Cable | Ali Fazal & Rhea Chakraborty | Jubin | Amjad Nadeem | Sameer\n",
            "Number of views:  37046681\n",
            "Length of video:  321\n",
            "Rating of video:  4.7281418\n",
            "Downloading...\n",
            "Download completed!!\n",
            "<moviepy.video.io.VideoFileClip.VideoFileClip object at 0x7f23fb25ad10>\n",
            "[MoviePy] Writing audio in /content/Songs/EK MULAQAT FULL AUDIO  Sonali Cable  Ali Fazal & Rhea Chakraborty  Jubin  Amjad Nadeem  Sameer.mp3\n"
          ],
          "name": "stdout"
        },
        {
          "output_type": "stream",
          "text": [
            "100%|██████████| 7068/7068 [00:10<00:00, 701.37it/s]"
          ],
          "name": "stderr"
        },
        {
          "output_type": "stream",
          "text": [
            "[MoviePy] Done.\n"
          ],
          "name": "stdout"
        },
        {
          "output_type": "stream",
          "text": [
            "\n"
          ],
          "name": "stderr"
        }
      ]
    },
    {
      "cell_type": "code",
      "metadata": {
        "id": "6nDiQ6E2i92m",
        "colab": {
          "base_uri": "https://localhost:8080/",
          "height": 17
        },
        "outputId": "76fe9113-8dca-4045-f57a-9f3b4f7a2b32"
      },
      "source": [
        "# Creating the zip file\n",
        "\n",
        "old_name = \"/content/Songs\"\n",
        "new_name = \"/content/\" + v\n",
        "os.rename(old_name,new_name)\n",
        "shutil.make_archive(new_name, 'zip', new_name)\n",
        "new_name += \".zip\"\n",
        "files.download(new_name)"
      ],
      "execution_count": null,
      "outputs": [
        {
          "output_type": "display_data",
          "data": {
            "application/javascript": [
              "\n",
              "    async function download(id, filename, size) {\n",
              "      if (!google.colab.kernel.accessAllowed) {\n",
              "        return;\n",
              "      }\n",
              "      const div = document.createElement('div');\n",
              "      const label = document.createElement('label');\n",
              "      label.textContent = `Downloading \"${filename}\": `;\n",
              "      div.appendChild(label);\n",
              "      const progress = document.createElement('progress');\n",
              "      progress.max = size;\n",
              "      div.appendChild(progress);\n",
              "      document.body.appendChild(div);\n",
              "\n",
              "      const buffers = [];\n",
              "      let downloaded = 0;\n",
              "\n",
              "      const channel = await google.colab.kernel.comms.open(id);\n",
              "      // Send a message to notify the kernel that we're ready.\n",
              "      channel.send({})\n",
              "\n",
              "      for await (const message of channel.messages) {\n",
              "        // Send a message to notify the kernel that we're ready.\n",
              "        channel.send({})\n",
              "        if (message.buffers) {\n",
              "          for (const buffer of message.buffers) {\n",
              "            buffers.push(buffer);\n",
              "            downloaded += buffer.byteLength;\n",
              "            progress.value = downloaded;\n",
              "          }\n",
              "        }\n",
              "      }\n",
              "      const blob = new Blob(buffers, {type: 'application/binary'});\n",
              "      const a = document.createElement('a');\n",
              "      a.href = window.URL.createObjectURL(blob);\n",
              "      a.download = filename;\n",
              "      div.appendChild(a);\n",
              "      a.click();\n",
              "      div.remove();\n",
              "    }\n",
              "  "
            ],
            "text/plain": [
              "<IPython.core.display.Javascript object>"
            ]
          },
          "metadata": {
            "tags": []
          }
        },
        {
          "output_type": "display_data",
          "data": {
            "application/javascript": [
              "download(\"download_f2b37631-8268-4191-9814-34ca5903b256\", \"Romantic.zip\", 149382357)"
            ],
            "text/plain": [
              "<IPython.core.display.Javascript object>"
            ]
          },
          "metadata": {
            "tags": []
          }
        }
      ]
    },
    {
      "cell_type": "code",
      "metadata": {
        "id": "cj4FnUYDAa7O"
      },
      "source": [
        "# Clearing the Folders and Files\n",
        "import os\n",
        "v = 'Romantic'\n",
        "dir = \"/content/\" + v\n",
        "for f in os.listdir(dir):\n",
        "  os.remove(os.path.join(dir, f))\n",
        "os.rmdir(dir) \n",
        "os.remove(new_name)"
      ],
      "execution_count": null,
      "outputs": []
    }
  ]
}